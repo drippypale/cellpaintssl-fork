{
 "cells": [
  {
   "cell_type": "markdown",
   "metadata": {},
   "source": [
    "# Dino features for the supervised baseline experiment"
   ]
  },
  {
   "cell_type": "code",
   "execution_count": 1,
   "metadata": {},
   "outputs": [],
   "source": [
    "import os\n",
    "import pandas as pd\n",
    "import numpy as np"
   ]
  },
  {
   "cell_type": "markdown",
   "metadata": {},
   "source": [
    "Function for extracting metadata and CellProfiler feature column indices:"
   ]
  },
  {
   "cell_type": "code",
   "execution_count": 2,
   "metadata": {},
   "outputs": [],
   "source": [
    "def get_feature_cols(df: pd.DataFrame, \n",
    "                     features_type: str=\"dino\") -> list() :\n",
    "    \"\"\"Splits columns of input dataframe into columns contining metadata and columns containing dino features\n",
    "    :param df: input data frame\n",
    "    :param features_type:\n",
    "        \"standard\" for anything do not start with emb_\n",
    "        \"dino\": for dino features names as start with emb_\n",
    "    :return : feature_columns , info_columns\n",
    "    \"\"\"\n",
    "\n",
    "    feature_cols = [ c for c in df.columns if ( c.startswith(\"emb_\") | c.startswith(\"INCHIKEY\" )) ]\n",
    " \n",
    "    info_cols =  list( set(df.columns).difference(set(feature_cols)) )\n",
    "    return feature_cols, info_cols"
   ]
  },
  {
   "cell_type": "markdown",
   "metadata": {},
   "source": [
    "Function for impute Nan values"
   ]
  },
  {
   "cell_type": "code",
   "execution_count": 3,
   "metadata": {},
   "outputs": [],
   "source": [
    "def impute_features( data, feature_cols, outlier_threshold=1000):\n",
    "    \n",
    "    for feat in feature_cols:\n",
    "        impute_idx = data[feat].isin([np.inf, -np.inf, np.nan])\n",
    "        if impute_idx.sum()>0:\n",
    "            print('Nan or inf feature %s for %i samples'%(feat, impute_idx.sum()))\n",
    "        if outlier_threshold:\n",
    "            impute_idx = impute_idx | (data[feat].abs()>outlier_threshold)\n",
    "        if impute_idx.sum()>0:\n",
    "            data.loc[ impute_idx, feat] = data.loc[ impute_idx==False, feat].median()\n",
    "            print('Imputing to median %s for %i samples'%(feat, impute_idx.sum()))\n",
    "    return data"
   ]
  },
  {
   "cell_type": "markdown",
   "metadata": {},
   "source": [
    "Load Dino features:"
   ]
  },
  {
   "cell_type": "code",
   "execution_count": 4,
   "metadata": {},
   "outputs": [],
   "source": [
    "dino_df = pd.read_csv('/SSL_data/supervisedCNNs/Bray_bioactives/embeddings/DINO/well_features.csv')"
   ]
  },
  {
   "cell_type": "markdown",
   "metadata": {},
   "source": [
    "Check how the data looks like"
   ]
  },
  {
   "cell_type": "code",
   "execution_count": 5,
   "metadata": {},
   "outputs": [
    {
     "data": {
      "text/html": [
       "<div>\n",
       "<style scoped>\n",
       "    .dataframe tbody tr th:only-of-type {\n",
       "        vertical-align: middle;\n",
       "    }\n",
       "\n",
       "    .dataframe tbody tr th {\n",
       "        vertical-align: top;\n",
       "    }\n",
       "\n",
       "    .dataframe thead th {\n",
       "        text-align: right;\n",
       "    }\n",
       "</style>\n",
       "<table border=\"1\" class=\"dataframe\">\n",
       "  <thead>\n",
       "    <tr style=\"text-align: right;\">\n",
       "      <th></th>\n",
       "      <th>INCHIKEY</th>\n",
       "      <th>Plate</th>\n",
       "      <th>Well</th>\n",
       "      <th>broad_sample</th>\n",
       "      <th>Object_Count</th>\n",
       "      <th>mmoles_per_liter</th>\n",
       "      <th>Plate_Map_Name</th>\n",
       "      <th>index</th>\n",
       "      <th>solvent</th>\n",
       "      <th>emb_0000</th>\n",
       "      <th>...</th>\n",
       "      <th>emb_0370</th>\n",
       "      <th>emb_0371</th>\n",
       "      <th>emb_0372</th>\n",
       "      <th>emb_0374</th>\n",
       "      <th>emb_0376</th>\n",
       "      <th>emb_0377</th>\n",
       "      <th>emb_0378</th>\n",
       "      <th>emb_0379</th>\n",
       "      <th>emb_0380</th>\n",
       "      <th>emb_0381</th>\n",
       "    </tr>\n",
       "  </thead>\n",
       "  <tbody>\n",
       "    <tr>\n",
       "      <th>0</th>\n",
       "      <td>RIHXBZGHHXCGPP-MZKRTTBSSA-N</td>\n",
       "      <td>26795</td>\n",
       "      <td>A10</td>\n",
       "      <td>BRD-K53839527-001-01-4</td>\n",
       "      <td>684</td>\n",
       "      <td>5.124438</td>\n",
       "      <td>H-CBLD-004-4</td>\n",
       "      <td>9</td>\n",
       "      <td>DMSO</td>\n",
       "      <td>-0.032752</td>\n",
       "      <td>...</td>\n",
       "      <td>0.932460</td>\n",
       "      <td>0.887492</td>\n",
       "      <td>-0.337470</td>\n",
       "      <td>0.787882</td>\n",
       "      <td>0.873322</td>\n",
       "      <td>-0.200632</td>\n",
       "      <td>0.160022</td>\n",
       "      <td>0.079105</td>\n",
       "      <td>0.497942</td>\n",
       "      <td>1.460706</td>\n",
       "    </tr>\n",
       "    <tr>\n",
       "      <th>1</th>\n",
       "      <td>RIHXBZGHHXCGPP-MZKRTTBSSA-N</td>\n",
       "      <td>26679</td>\n",
       "      <td>A10</td>\n",
       "      <td>BRD-K53839527-001-01-4</td>\n",
       "      <td>499</td>\n",
       "      <td>5.124438</td>\n",
       "      <td>H-CBLD-004-4</td>\n",
       "      <td>20808</td>\n",
       "      <td>DMSO</td>\n",
       "      <td>-0.112787</td>\n",
       "      <td>...</td>\n",
       "      <td>0.902729</td>\n",
       "      <td>1.962275</td>\n",
       "      <td>0.467594</td>\n",
       "      <td>0.215321</td>\n",
       "      <td>0.154898</td>\n",
       "      <td>-0.988313</td>\n",
       "      <td>0.958924</td>\n",
       "      <td>-0.667498</td>\n",
       "      <td>0.476173</td>\n",
       "      <td>-0.022082</td>\n",
       "    </tr>\n",
       "    <tr>\n",
       "      <th>2</th>\n",
       "      <td>RIHXBZGHHXCGPP-MZKRTTBSSA-N</td>\n",
       "      <td>26680</td>\n",
       "      <td>A10</td>\n",
       "      <td>BRD-K53839527-001-01-4</td>\n",
       "      <td>570</td>\n",
       "      <td>5.124438</td>\n",
       "      <td>H-CBLD-004-4</td>\n",
       "      <td>76419</td>\n",
       "      <td>DMSO</td>\n",
       "      <td>1.300692</td>\n",
       "      <td>...</td>\n",
       "      <td>0.429968</td>\n",
       "      <td>0.801803</td>\n",
       "      <td>-0.458164</td>\n",
       "      <td>-0.684393</td>\n",
       "      <td>0.745480</td>\n",
       "      <td>-0.320938</td>\n",
       "      <td>-0.930174</td>\n",
       "      <td>-1.180052</td>\n",
       "      <td>0.321221</td>\n",
       "      <td>-0.329831</td>\n",
       "    </tr>\n",
       "    <tr>\n",
       "      <th>3</th>\n",
       "      <td>RIHXBZGHHXCGPP-MZKRTTBSSA-N</td>\n",
       "      <td>26794</td>\n",
       "      <td>A10</td>\n",
       "      <td>BRD-K53839527-001-01-4</td>\n",
       "      <td>580</td>\n",
       "      <td>5.124438</td>\n",
       "      <td>H-CBLD-004-4</td>\n",
       "      <td>121514</td>\n",
       "      <td>DMSO</td>\n",
       "      <td>-0.392056</td>\n",
       "      <td>...</td>\n",
       "      <td>-0.232391</td>\n",
       "      <td>-0.585265</td>\n",
       "      <td>-0.500658</td>\n",
       "      <td>-0.975645</td>\n",
       "      <td>1.927277</td>\n",
       "      <td>-1.467134</td>\n",
       "      <td>-0.342321</td>\n",
       "      <td>0.240753</td>\n",
       "      <td>1.190493</td>\n",
       "      <td>-0.667392</td>\n",
       "    </tr>\n",
       "    <tr>\n",
       "      <th>4</th>\n",
       "      <td>RIHXBZGHHXCGPP-SXWKCWPCSA-N</td>\n",
       "      <td>26795</td>\n",
       "      <td>A12</td>\n",
       "      <td>BRD-K71719006-001-01-6</td>\n",
       "      <td>736</td>\n",
       "      <td>5.225829</td>\n",
       "      <td>H-CBLD-004-4</td>\n",
       "      <td>11</td>\n",
       "      <td>DMSO</td>\n",
       "      <td>-0.569492</td>\n",
       "      <td>...</td>\n",
       "      <td>0.473290</td>\n",
       "      <td>-0.462824</td>\n",
       "      <td>0.762132</td>\n",
       "      <td>-1.412534</td>\n",
       "      <td>-0.028430</td>\n",
       "      <td>0.147524</td>\n",
       "      <td>-0.386727</td>\n",
       "      <td>-0.550231</td>\n",
       "      <td>-0.547129</td>\n",
       "      <td>0.666332</td>\n",
       "    </tr>\n",
       "  </tbody>\n",
       "</table>\n",
       "<p>5 rows × 280 columns</p>\n",
       "</div>"
      ],
      "text/plain": [
       "                      INCHIKEY  Plate Well            broad_sample  \\\n",
       "0  RIHXBZGHHXCGPP-MZKRTTBSSA-N  26795  A10  BRD-K53839527-001-01-4   \n",
       "1  RIHXBZGHHXCGPP-MZKRTTBSSA-N  26679  A10  BRD-K53839527-001-01-4   \n",
       "2  RIHXBZGHHXCGPP-MZKRTTBSSA-N  26680  A10  BRD-K53839527-001-01-4   \n",
       "3  RIHXBZGHHXCGPP-MZKRTTBSSA-N  26794  A10  BRD-K53839527-001-01-4   \n",
       "4  RIHXBZGHHXCGPP-SXWKCWPCSA-N  26795  A12  BRD-K71719006-001-01-6   \n",
       "\n",
       "   Object_Count  mmoles_per_liter Plate_Map_Name   index solvent  emb_0000  \\\n",
       "0           684          5.124438   H-CBLD-004-4       9    DMSO -0.032752   \n",
       "1           499          5.124438   H-CBLD-004-4   20808    DMSO -0.112787   \n",
       "2           570          5.124438   H-CBLD-004-4   76419    DMSO  1.300692   \n",
       "3           580          5.124438   H-CBLD-004-4  121514    DMSO -0.392056   \n",
       "4           736          5.225829   H-CBLD-004-4      11    DMSO -0.569492   \n",
       "\n",
       "   ...  emb_0370  emb_0371  emb_0372  emb_0374  emb_0376  emb_0377  emb_0378  \\\n",
       "0  ...  0.932460  0.887492 -0.337470  0.787882  0.873322 -0.200632  0.160022   \n",
       "1  ...  0.902729  1.962275  0.467594  0.215321  0.154898 -0.988313  0.958924   \n",
       "2  ...  0.429968  0.801803 -0.458164 -0.684393  0.745480 -0.320938 -0.930174   \n",
       "3  ... -0.232391 -0.585265 -0.500658 -0.975645  1.927277 -1.467134 -0.342321   \n",
       "4  ...  0.473290 -0.462824  0.762132 -1.412534 -0.028430  0.147524 -0.386727   \n",
       "\n",
       "   emb_0379  emb_0380  emb_0381  \n",
       "0  0.079105  0.497942  1.460706  \n",
       "1 -0.667498  0.476173 -0.022082  \n",
       "2 -1.180052  0.321221 -0.329831  \n",
       "3  0.240753  1.190493 -0.667392  \n",
       "4 -0.550231 -0.547129  0.666332  \n",
       "\n",
       "[5 rows x 280 columns]"
      ]
     },
     "execution_count": 5,
     "metadata": {},
     "output_type": "execute_result"
    }
   ],
   "source": [
    "dino_df.head()"
   ]
  },
  {
   "cell_type": "code",
   "execution_count": 6,
   "metadata": {},
   "outputs": [
    {
     "data": {
      "text/plain": [
       "(46868, 280)"
      ]
     },
     "execution_count": 6,
     "metadata": {},
     "output_type": "execute_result"
    }
   ],
   "source": [
    "dino_df.shape"
   ]
  },
  {
   "cell_type": "code",
   "execution_count": 7,
   "metadata": {},
   "outputs": [
    {
     "name": "stdout",
     "output_type": "stream",
     "text": [
      "INCHIKEY\n",
      "Plate\n",
      "Well\n",
      "broad_sample\n",
      "Object_Count\n",
      "mmoles_per_liter\n",
      "Plate_Map_Name\n",
      "index\n",
      "solvent\n",
      "emb_0000\n",
      "emb_0001\n",
      "emb_0003\n",
      "emb_0005\n",
      "emb_0007\n",
      "emb_0008\n",
      "emb_0010\n",
      "emb_0011\n",
      "emb_0012\n",
      "emb_0013\n",
      "emb_0014\n",
      "emb_0015\n",
      "emb_0016\n",
      "emb_0017\n",
      "emb_0018\n",
      "emb_0019\n",
      "emb_0022\n",
      "emb_0023\n",
      "emb_0025\n",
      "emb_0026\n",
      "emb_0027\n",
      "emb_0030\n",
      "emb_0032\n",
      "emb_0033\n",
      "emb_0035\n",
      "emb_0036\n",
      "emb_0037\n",
      "emb_0042\n",
      "emb_0045\n",
      "emb_0046\n",
      "emb_0047\n",
      "emb_0048\n",
      "emb_0050\n",
      "emb_0053\n",
      "emb_0054\n",
      "emb_0055\n",
      "emb_0056\n",
      "emb_0061\n",
      "emb_0062\n",
      "emb_0064\n",
      "emb_0065\n",
      "emb_0066\n",
      "emb_0067\n",
      "emb_0068\n",
      "emb_0069\n",
      "emb_0070\n",
      "emb_0073\n",
      "emb_0074\n",
      "emb_0076\n",
      "emb_0077\n",
      "emb_0079\n",
      "emb_0080\n",
      "emb_0081\n",
      "emb_0082\n",
      "emb_0084\n",
      "emb_0085\n",
      "emb_0086\n",
      "emb_0087\n",
      "emb_0089\n",
      "emb_0091\n",
      "emb_0092\n",
      "emb_0093\n",
      "emb_0094\n",
      "emb_0096\n",
      "emb_0097\n",
      "emb_0098\n",
      "emb_0100\n",
      "emb_0101\n",
      "emb_0102\n",
      "emb_0103\n",
      "emb_0104\n",
      "emb_0105\n",
      "emb_0106\n",
      "emb_0107\n",
      "emb_0108\n",
      "emb_0109\n",
      "emb_0110\n",
      "emb_0111\n",
      "emb_0112\n",
      "emb_0113\n",
      "emb_0115\n",
      "emb_0117\n",
      "emb_0119\n",
      "emb_0121\n",
      "emb_0122\n",
      "emb_0123\n",
      "emb_0124\n",
      "emb_0125\n",
      "emb_0126\n",
      "emb_0128\n",
      "emb_0130\n",
      "emb_0131\n",
      "emb_0132\n",
      "emb_0134\n",
      "emb_0135\n",
      "emb_0136\n",
      "emb_0137\n",
      "emb_0140\n",
      "emb_0141\n",
      "emb_0142\n",
      "emb_0144\n",
      "emb_0145\n",
      "emb_0146\n",
      "emb_0147\n",
      "emb_0149\n",
      "emb_0150\n",
      "emb_0151\n",
      "emb_0153\n",
      "emb_0154\n",
      "emb_0156\n",
      "emb_0157\n",
      "emb_0158\n",
      "emb_0159\n",
      "emb_0160\n",
      "emb_0161\n",
      "emb_0164\n",
      "emb_0165\n",
      "emb_0166\n",
      "emb_0168\n",
      "emb_0170\n",
      "emb_0171\n",
      "emb_0172\n",
      "emb_0173\n",
      "emb_0174\n",
      "emb_0175\n",
      "emb_0178\n",
      "emb_0179\n",
      "emb_0180\n",
      "emb_0183\n",
      "emb_0186\n",
      "emb_0188\n",
      "emb_0192\n",
      "emb_0195\n",
      "emb_0196\n",
      "emb_0199\n",
      "emb_0201\n",
      "emb_0202\n",
      "emb_0203\n",
      "emb_0207\n",
      "emb_0208\n",
      "emb_0209\n",
      "emb_0210\n",
      "emb_0211\n",
      "emb_0212\n",
      "emb_0213\n",
      "emb_0214\n",
      "emb_0216\n",
      "emb_0217\n",
      "emb_0218\n",
      "emb_0219\n",
      "emb_0220\n",
      "emb_0222\n",
      "emb_0223\n",
      "emb_0224\n",
      "emb_0225\n",
      "emb_0227\n",
      "emb_0230\n",
      "emb_0231\n",
      "emb_0232\n",
      "emb_0235\n",
      "emb_0239\n",
      "emb_0240\n",
      "emb_0241\n",
      "emb_0242\n",
      "emb_0243\n",
      "emb_0244\n",
      "emb_0248\n",
      "emb_0249\n",
      "emb_0250\n",
      "emb_0251\n",
      "emb_0252\n",
      "emb_0253\n",
      "emb_0254\n",
      "emb_0256\n",
      "emb_0257\n",
      "emb_0258\n",
      "emb_0259\n",
      "emb_0260\n",
      "emb_0262\n",
      "emb_0263\n",
      "emb_0264\n",
      "emb_0265\n",
      "emb_0267\n",
      "emb_0268\n",
      "emb_0269\n",
      "emb_0270\n",
      "emb_0271\n",
      "emb_0272\n",
      "emb_0273\n",
      "emb_0274\n",
      "emb_0275\n",
      "emb_0277\n",
      "emb_0278\n",
      "emb_0279\n",
      "emb_0280\n",
      "emb_0281\n",
      "emb_0282\n",
      "emb_0284\n",
      "emb_0285\n",
      "emb_0286\n",
      "emb_0288\n",
      "emb_0290\n",
      "emb_0291\n",
      "emb_0292\n",
      "emb_0293\n",
      "emb_0295\n",
      "emb_0296\n",
      "emb_0297\n",
      "emb_0298\n",
      "emb_0299\n",
      "emb_0300\n",
      "emb_0303\n",
      "emb_0306\n",
      "emb_0307\n",
      "emb_0308\n",
      "emb_0309\n",
      "emb_0310\n",
      "emb_0311\n",
      "emb_0312\n",
      "emb_0314\n",
      "emb_0315\n",
      "emb_0316\n",
      "emb_0317\n",
      "emb_0319\n",
      "emb_0320\n",
      "emb_0321\n",
      "emb_0322\n",
      "emb_0323\n",
      "emb_0324\n",
      "emb_0325\n",
      "emb_0326\n",
      "emb_0328\n",
      "emb_0330\n",
      "emb_0335\n",
      "emb_0337\n",
      "emb_0338\n",
      "emb_0339\n",
      "emb_0341\n",
      "emb_0342\n",
      "emb_0343\n",
      "emb_0346\n",
      "emb_0347\n",
      "emb_0349\n",
      "emb_0350\n",
      "emb_0351\n",
      "emb_0352\n",
      "emb_0353\n",
      "emb_0355\n",
      "emb_0356\n",
      "emb_0357\n",
      "emb_0358\n",
      "emb_0359\n",
      "emb_0360\n",
      "emb_0361\n",
      "emb_0362\n",
      "emb_0363\n",
      "emb_0364\n",
      "emb_0365\n",
      "emb_0367\n",
      "emb_0368\n",
      "emb_0369\n",
      "emb_0370\n",
      "emb_0371\n",
      "emb_0372\n",
      "emb_0374\n",
      "emb_0376\n",
      "emb_0377\n",
      "emb_0378\n",
      "emb_0379\n",
      "emb_0380\n",
      "emb_0381\n"
     ]
    }
   ],
   "source": [
    "for col in dino_df.columns:\n",
    "    print(col)"
   ]
  },
  {
   "cell_type": "markdown",
   "metadata": {},
   "source": [
    "Get metadata and feature column indices:"
   ]
  },
  {
   "cell_type": "code",
   "execution_count": 8,
   "metadata": {},
   "outputs": [],
   "source": [
    "feature_cols, meta_cols = get_feature_cols(dino_df)"
   ]
  },
  {
   "cell_type": "markdown",
   "metadata": {},
   "source": [
    "**Remove whole-image features which were found to decrease performance:**"
   ]
  },
  {
   "cell_type": "code",
   "execution_count": 9,
   "metadata": {},
   "outputs": [
    {
     "name": "stdout",
     "output_type": "stream",
     "text": [
      "Number of dino features: 272\n"
     ]
    }
   ],
   "source": [
    "print(f\"Number of dino features: {len(feature_cols)}\")"
   ]
  },
  {
   "cell_type": "code",
   "execution_count": 10,
   "metadata": {},
   "outputs": [
    {
     "name": "stdout",
     "output_type": "stream",
     "text": [
      "Number of meta columns: 8\n"
     ]
    }
   ],
   "source": [
    "print(f\"Number of meta columns: {len(meta_cols)}\")"
   ]
  },
  {
   "cell_type": "code",
   "execution_count": 11,
   "metadata": {},
   "outputs": [
    {
     "name": "stdout",
     "output_type": "stream",
     "text": [
      "['Well', 'index', 'solvent', 'mmoles_per_liter', 'Object_Count', 'Plate_Map_Name', 'broad_sample', 'Plate']\n"
     ]
    }
   ],
   "source": [
    "print(meta_cols)"
   ]
  },
  {
   "cell_type": "code",
   "execution_count": 12,
   "metadata": {},
   "outputs": [
    {
     "name": "stdout",
     "output_type": "stream",
     "text": [
      "['INCHIKEY', 'emb_0000', 'emb_0001', 'emb_0003', 'emb_0005', 'emb_0007', 'emb_0008', 'emb_0010', 'emb_0011', 'emb_0012', 'emb_0013', 'emb_0014', 'emb_0015', 'emb_0016', 'emb_0017', 'emb_0018', 'emb_0019', 'emb_0022', 'emb_0023', 'emb_0025', 'emb_0026', 'emb_0027', 'emb_0030', 'emb_0032', 'emb_0033', 'emb_0035', 'emb_0036', 'emb_0037', 'emb_0042', 'emb_0045', 'emb_0046', 'emb_0047', 'emb_0048', 'emb_0050', 'emb_0053', 'emb_0054', 'emb_0055', 'emb_0056', 'emb_0061', 'emb_0062', 'emb_0064', 'emb_0065', 'emb_0066', 'emb_0067', 'emb_0068', 'emb_0069', 'emb_0070', 'emb_0073', 'emb_0074', 'emb_0076', 'emb_0077', 'emb_0079', 'emb_0080', 'emb_0081', 'emb_0082', 'emb_0084', 'emb_0085', 'emb_0086', 'emb_0087', 'emb_0089', 'emb_0091', 'emb_0092', 'emb_0093', 'emb_0094', 'emb_0096', 'emb_0097', 'emb_0098', 'emb_0100', 'emb_0101', 'emb_0102', 'emb_0103', 'emb_0104', 'emb_0105', 'emb_0106', 'emb_0107', 'emb_0108', 'emb_0109', 'emb_0110', 'emb_0111', 'emb_0112', 'emb_0113', 'emb_0115', 'emb_0117', 'emb_0119', 'emb_0121', 'emb_0122', 'emb_0123', 'emb_0124', 'emb_0125', 'emb_0126', 'emb_0128', 'emb_0130', 'emb_0131', 'emb_0132', 'emb_0134', 'emb_0135', 'emb_0136', 'emb_0137', 'emb_0140', 'emb_0141', 'emb_0142', 'emb_0144', 'emb_0145', 'emb_0146', 'emb_0147', 'emb_0149', 'emb_0150', 'emb_0151', 'emb_0153', 'emb_0154', 'emb_0156', 'emb_0157', 'emb_0158', 'emb_0159', 'emb_0160', 'emb_0161', 'emb_0164', 'emb_0165', 'emb_0166', 'emb_0168', 'emb_0170', 'emb_0171', 'emb_0172', 'emb_0173', 'emb_0174', 'emb_0175', 'emb_0178', 'emb_0179', 'emb_0180', 'emb_0183', 'emb_0186', 'emb_0188', 'emb_0192', 'emb_0195', 'emb_0196', 'emb_0199', 'emb_0201', 'emb_0202', 'emb_0203', 'emb_0207', 'emb_0208', 'emb_0209', 'emb_0210', 'emb_0211', 'emb_0212', 'emb_0213', 'emb_0214', 'emb_0216', 'emb_0217', 'emb_0218', 'emb_0219', 'emb_0220', 'emb_0222', 'emb_0223', 'emb_0224', 'emb_0225', 'emb_0227', 'emb_0230', 'emb_0231', 'emb_0232', 'emb_0235', 'emb_0239', 'emb_0240', 'emb_0241', 'emb_0242', 'emb_0243', 'emb_0244', 'emb_0248', 'emb_0249', 'emb_0250', 'emb_0251', 'emb_0252', 'emb_0253', 'emb_0254', 'emb_0256', 'emb_0257', 'emb_0258', 'emb_0259', 'emb_0260', 'emb_0262', 'emb_0263', 'emb_0264', 'emb_0265', 'emb_0267', 'emb_0268', 'emb_0269', 'emb_0270', 'emb_0271', 'emb_0272', 'emb_0273', 'emb_0274', 'emb_0275', 'emb_0277', 'emb_0278', 'emb_0279', 'emb_0280', 'emb_0281', 'emb_0282', 'emb_0284', 'emb_0285', 'emb_0286', 'emb_0288', 'emb_0290', 'emb_0291', 'emb_0292', 'emb_0293', 'emb_0295', 'emb_0296', 'emb_0297', 'emb_0298', 'emb_0299', 'emb_0300', 'emb_0303', 'emb_0306', 'emb_0307', 'emb_0308', 'emb_0309', 'emb_0310', 'emb_0311', 'emb_0312', 'emb_0314', 'emb_0315', 'emb_0316', 'emb_0317', 'emb_0319', 'emb_0320', 'emb_0321', 'emb_0322', 'emb_0323', 'emb_0324', 'emb_0325', 'emb_0326', 'emb_0328', 'emb_0330', 'emb_0335', 'emb_0337', 'emb_0338', 'emb_0339', 'emb_0341', 'emb_0342', 'emb_0343', 'emb_0346', 'emb_0347', 'emb_0349', 'emb_0350', 'emb_0351', 'emb_0352', 'emb_0353', 'emb_0355', 'emb_0356', 'emb_0357', 'emb_0358', 'emb_0359', 'emb_0360', 'emb_0361', 'emb_0362', 'emb_0363', 'emb_0364', 'emb_0365', 'emb_0367', 'emb_0368', 'emb_0369', 'emb_0370', 'emb_0371', 'emb_0372', 'emb_0374', 'emb_0376', 'emb_0377', 'emb_0378', 'emb_0379', 'emb_0380', 'emb_0381']\n"
     ]
    }
   ],
   "source": [
    "print(feature_cols)"
   ]
  },
  {
   "cell_type": "markdown",
   "metadata": {},
   "source": [
    "## Datasplits\n",
    "The datasplits from the Hofmarcher et al study are in the following directory:"
   ]
  },
  {
   "cell_type": "code",
   "execution_count": 13,
   "metadata": {},
   "outputs": [],
   "source": [
    "datasplit_dir = '/SSL_data/supervisedCNNs/Bray_bioactives/datasplits_Hofmarcher'"
   ]
  },
  {
   "cell_type": "markdown",
   "metadata": {},
   "source": [
    "There were 3 versions of train/val/test splits:"
   ]
  },
  {
   "cell_type": "code",
   "execution_count": 14,
   "metadata": {},
   "outputs": [
    {
     "data": {
      "text/plain": [
       "['datasplit1-test.csv',\n",
       " 'datasplit1-train.csv',\n",
       " 'datasplit1-val.csv',\n",
       " 'datasplit2-test.csv',\n",
       " 'datasplit2-train.csv',\n",
       " 'datasplit2-val.csv',\n",
       " 'datasplit3-test.csv',\n",
       " 'datasplit3-train.csv',\n",
       " 'datasplit3-val.csv']"
      ]
     },
     "execution_count": 14,
     "metadata": {},
     "output_type": "execute_result"
    }
   ],
   "source": [
    "sorted(os.listdir(datasplit_dir))"
   ]
  },
  {
   "cell_type": "markdown",
   "metadata": {},
   "source": [
    "To obtain train splits, load e.g. `datasplit1-train.csv` and use `INCHIKEY` column to subset the feature and activity data:"
   ]
  },
  {
   "cell_type": "code",
   "execution_count": 15,
   "metadata": {},
   "outputs": [],
   "source": [
    "train_df_3 = pd.read_csv(os.path.join(datasplit_dir, 'datasplit3-train.csv'))"
   ]
  },
  {
   "cell_type": "code",
   "execution_count": 16,
   "metadata": {},
   "outputs": [
    {
     "data": {
      "text/html": [
       "<div>\n",
       "<style scoped>\n",
       "    .dataframe tbody tr th:only-of-type {\n",
       "        vertical-align: middle;\n",
       "    }\n",
       "\n",
       "    .dataframe tbody tr th {\n",
       "        vertical-align: top;\n",
       "    }\n",
       "\n",
       "    .dataframe thead th {\n",
       "        text-align: right;\n",
       "    }\n",
       "</style>\n",
       "<table border=\"1\" class=\"dataframe\">\n",
       "  <thead>\n",
       "    <tr style=\"text-align: right;\">\n",
       "      <th></th>\n",
       "      <th>INCHIKEY</th>\n",
       "    </tr>\n",
       "  </thead>\n",
       "  <tbody>\n",
       "    <tr>\n",
       "      <th>0</th>\n",
       "      <td>CAJIGINSTLKQMM-UHFFFAOYSA-N</td>\n",
       "    </tr>\n",
       "    <tr>\n",
       "      <th>1</th>\n",
       "      <td>CAJIGINSTLKQMM-UHFFFAOYSA-N</td>\n",
       "    </tr>\n",
       "    <tr>\n",
       "      <th>2</th>\n",
       "      <td>CAJIGINSTLKQMM-UHFFFAOYSA-N</td>\n",
       "    </tr>\n",
       "    <tr>\n",
       "      <th>3</th>\n",
       "      <td>CAJIGINSTLKQMM-UHFFFAOYSA-N</td>\n",
       "    </tr>\n",
       "    <tr>\n",
       "      <th>4</th>\n",
       "      <td>CAJIGINSTLKQMM-UHFFFAOYSA-N</td>\n",
       "    </tr>\n",
       "  </tbody>\n",
       "</table>\n",
       "</div>"
      ],
      "text/plain": [
       "                      INCHIKEY\n",
       "0  CAJIGINSTLKQMM-UHFFFAOYSA-N\n",
       "1  CAJIGINSTLKQMM-UHFFFAOYSA-N\n",
       "2  CAJIGINSTLKQMM-UHFFFAOYSA-N\n",
       "3  CAJIGINSTLKQMM-UHFFFAOYSA-N\n",
       "4  CAJIGINSTLKQMM-UHFFFAOYSA-N"
      ]
     },
     "execution_count": 16,
     "metadata": {},
     "output_type": "execute_result"
    }
   ],
   "source": [
    "train_df_3[['INCHIKEY']].head()"
   ]
  },
  {
   "cell_type": "code",
   "execution_count": 17,
   "metadata": {},
   "outputs": [
    {
     "data": {
      "text/plain": [
       "(198737, 17)"
      ]
     },
     "execution_count": 17,
     "metadata": {},
     "output_type": "execute_result"
    }
   ],
   "source": [
    "train_df_3.shape"
   ]
  },
  {
   "cell_type": "code",
   "execution_count": 18,
   "metadata": {},
   "outputs": [
    {
     "data": {
      "text/plain": [
       "(56687, 17)"
      ]
     },
     "execution_count": 18,
     "metadata": {},
     "output_type": "execute_result"
    }
   ],
   "source": [
    "test_df_3 = pd.read_csv(os.path.join(datasplit_dir, 'datasplit3-test.csv'))\n",
    "test_df_3.shape"
   ]
  },
  {
   "cell_type": "code",
   "execution_count": 19,
   "metadata": {},
   "outputs": [
    {
     "data": {
      "text/plain": [
       "(28610, 17)"
      ]
     },
     "execution_count": 19,
     "metadata": {},
     "output_type": "execute_result"
    }
   ],
   "source": [
    "val_df_3 = pd.read_csv(os.path.join(datasplit_dir, 'datasplit3-val.csv'))\n",
    "val_df_3.shape"
   ]
  },
  {
   "cell_type": "markdown",
   "metadata": {},
   "source": [
    "check the labels "
   ]
  },
  {
   "cell_type": "code",
   "execution_count": 20,
   "metadata": {},
   "outputs": [],
   "source": [
    "bioactivity_labels_dir = '/SSL_data/supervisedCNNs/Bray_bioactives/ChEMBL/Label_Matrix_Hofmarcher'"
   ]
  },
  {
   "cell_type": "code",
   "execution_count": 21,
   "metadata": {},
   "outputs": [],
   "source": [
    "compound_index_df = pd.read_csv(os.path.join(bioactivity_labels_dir, 'row-compound-index.csv'))"
   ]
  },
  {
   "cell_type": "code",
   "execution_count": 22,
   "metadata": {},
   "outputs": [
    {
     "data": {
      "text/html": [
       "<div>\n",
       "<style scoped>\n",
       "    .dataframe tbody tr th:only-of-type {\n",
       "        vertical-align: middle;\n",
       "    }\n",
       "\n",
       "    .dataframe tbody tr th {\n",
       "        vertical-align: top;\n",
       "    }\n",
       "\n",
       "    .dataframe thead th {\n",
       "        text-align: right;\n",
       "    }\n",
       "</style>\n",
       "<table border=\"1\" class=\"dataframe\">\n",
       "  <thead>\n",
       "    <tr style=\"text-align: right;\">\n",
       "      <th></th>\n",
       "      <th>INDEX</th>\n",
       "      <th>INCHIKEY</th>\n",
       "    </tr>\n",
       "  </thead>\n",
       "  <tbody>\n",
       "    <tr>\n",
       "      <th>0</th>\n",
       "      <td>0</td>\n",
       "      <td>IENZQIKPVFGBNW-UHFFFAOYSA-N</td>\n",
       "    </tr>\n",
       "    <tr>\n",
       "      <th>1</th>\n",
       "      <td>1</td>\n",
       "      <td>GSDSWSVVBLHKDQ-UHFFFAOYSA-N</td>\n",
       "    </tr>\n",
       "    <tr>\n",
       "      <th>2</th>\n",
       "      <td>2</td>\n",
       "      <td>CGIGDMFJXJATDK-UHFFFAOYSA-N</td>\n",
       "    </tr>\n",
       "    <tr>\n",
       "      <th>3</th>\n",
       "      <td>3</td>\n",
       "      <td>DSXXEELGXBCYNQ-UHFFFAOYSA-N</td>\n",
       "    </tr>\n",
       "    <tr>\n",
       "      <th>4</th>\n",
       "      <td>4</td>\n",
       "      <td>MYSWGUAQZAJSOK-UHFFFAOYSA-N</td>\n",
       "    </tr>\n",
       "  </tbody>\n",
       "</table>\n",
       "</div>"
      ],
      "text/plain": [
       "   INDEX                     INCHIKEY\n",
       "0      0  IENZQIKPVFGBNW-UHFFFAOYSA-N\n",
       "1      1  GSDSWSVVBLHKDQ-UHFFFAOYSA-N\n",
       "2      2  CGIGDMFJXJATDK-UHFFFAOYSA-N\n",
       "3      3  DSXXEELGXBCYNQ-UHFFFAOYSA-N\n",
       "4      4  MYSWGUAQZAJSOK-UHFFFAOYSA-N"
      ]
     },
     "execution_count": 22,
     "metadata": {},
     "output_type": "execute_result"
    }
   ],
   "source": [
    "compound_index_df.head()"
   ]
  },
  {
   "cell_type": "code",
   "execution_count": 23,
   "metadata": {},
   "outputs": [
    {
     "name": "stdout",
     "output_type": "stream",
     "text": [
      "Number of compound indexes: 10574\n"
     ]
    }
   ],
   "source": [
    "print(f\"Number of compound indexes: {len(compound_index_df)}\")"
   ]
  },
  {
   "cell_type": "markdown",
   "metadata": {},
   "source": [
    "Now we will merge compound with featuers"
   ]
  },
  {
   "cell_type": "code",
   "execution_count": 24,
   "metadata": {},
   "outputs": [
    {
     "name": "stdout",
     "output_type": "stream",
     "text": [
      "   INDEX                     INCHIKEY  emb_0000  emb_0001  emb_0003  emb_0005  \\\n",
      "0      0  IENZQIKPVFGBNW-UHFFFAOYSA-N  0.334818 -0.342595 -0.773422  2.529346   \n",
      "1      0  IENZQIKPVFGBNW-UHFFFAOYSA-N -0.524029  2.206661  3.621344  2.206456   \n",
      "2      0  IENZQIKPVFGBNW-UHFFFAOYSA-N  0.812762 -0.155273  0.270054  0.153479   \n",
      "3      0  IENZQIKPVFGBNW-UHFFFAOYSA-N -0.370551  0.804067 -0.948769 -0.254127   \n",
      "4      0  IENZQIKPVFGBNW-UHFFFAOYSA-N -1.240808  0.592322 -0.556329  1.012893   \n",
      "\n",
      "   emb_0007  emb_0008  emb_0010  emb_0011  ...  emb_0370  emb_0371  emb_0372  \\\n",
      "0  0.299519 -0.010472  0.108848  0.662685  ...  0.388371 -0.716367  0.948132   \n",
      "1  1.265477 -3.243098 -2.430532  0.203687  ...  1.184454 -0.097744  0.291923   \n",
      "2 -1.498994 -0.514010 -0.331458 -1.430916  ...  0.314736  0.588206 -0.605676   \n",
      "3 -0.949441  0.609493  0.651699  0.913270  ...  1.068782  0.500040  0.525435   \n",
      "4  0.863586 -1.683191 -4.079464 -3.931553  ...  2.162899 -1.896001  3.889791   \n",
      "\n",
      "   emb_0374  emb_0376  emb_0377  emb_0378  emb_0379  emb_0380  emb_0381  \n",
      "0  0.744193  0.057559 -0.414409  0.891092  1.047196 -0.100368  1.307486  \n",
      "1 -2.300278 -3.368585 -1.512072 -0.262014 -0.917004 -0.695038 -1.618507  \n",
      "2  1.102457  0.581706  1.299049  0.357350  1.470797  0.296914 -0.834075  \n",
      "3  0.054106 -0.462009  1.181315  1.718032  0.152905  0.821806 -0.434217  \n",
      "4  1.335344 -2.702739 -2.399406 -1.383692 -0.146688 -1.052323 -2.371733  \n",
      "\n",
      "[5 rows x 273 columns]\n"
     ]
    }
   ],
   "source": [
    "dino_df = dino_df[feature_cols]\n",
    "compound_index_featuers = pd.merge(compound_index_df, dino_df, on='INCHIKEY')\n",
    "print(compound_index_featuers.head())"
   ]
  },
  {
   "cell_type": "code",
   "execution_count": 25,
   "metadata": {},
   "outputs": [
    {
     "name": "stdout",
     "output_type": "stream",
     "text": [
      "10574\n"
     ]
    }
   ],
   "source": [
    "print(len(compound_index_featuers[\"INDEX\"].unique()))"
   ]
  },
  {
   "cell_type": "code",
   "execution_count": 26,
   "metadata": {},
   "outputs": [],
   "source": [
    "assay_index_df = pd.read_csv(os.path.join(bioactivity_labels_dir, 'column-assay-index.csv'))"
   ]
  },
  {
   "cell_type": "code",
   "execution_count": 27,
   "metadata": {},
   "outputs": [
    {
     "data": {
      "text/html": [
       "<div>\n",
       "<style scoped>\n",
       "    .dataframe tbody tr th:only-of-type {\n",
       "        vertical-align: middle;\n",
       "    }\n",
       "\n",
       "    .dataframe tbody tr th {\n",
       "        vertical-align: top;\n",
       "    }\n",
       "\n",
       "    .dataframe thead th {\n",
       "        text-align: right;\n",
       "    }\n",
       "</style>\n",
       "<table border=\"1\" class=\"dataframe\">\n",
       "  <thead>\n",
       "    <tr style=\"text-align: right;\">\n",
       "      <th></th>\n",
       "      <th>ASSAY_ID</th>\n",
       "    </tr>\n",
       "  </thead>\n",
       "  <tbody>\n",
       "    <tr>\n",
       "      <th>0</th>\n",
       "      <td>600885</td>\n",
       "    </tr>\n",
       "    <tr>\n",
       "      <th>1</th>\n",
       "      <td>688422</td>\n",
       "    </tr>\n",
       "    <tr>\n",
       "      <th>2</th>\n",
       "      <td>688493</td>\n",
       "    </tr>\n",
       "    <tr>\n",
       "      <th>3</th>\n",
       "      <td>688810</td>\n",
       "    </tr>\n",
       "    <tr>\n",
       "      <th>4</th>\n",
       "      <td>688812</td>\n",
       "    </tr>\n",
       "  </tbody>\n",
       "</table>\n",
       "</div>"
      ],
      "text/plain": [
       "   ASSAY_ID\n",
       "0    600885\n",
       "1    688422\n",
       "2    688493\n",
       "3    688810\n",
       "4    688812"
      ]
     },
     "execution_count": 27,
     "metadata": {},
     "output_type": "execute_result"
    }
   ],
   "source": [
    "assay_index_df.head()"
   ]
  },
  {
   "cell_type": "code",
   "execution_count": 28,
   "metadata": {},
   "outputs": [
    {
     "name": "stdout",
     "output_type": "stream",
     "text": [
      "Number of assay indexes: 209\n"
     ]
    }
   ],
   "source": [
    "print(f\"Number of assay indexes: {len(assay_index_df)}\")"
   ]
  },
  {
   "cell_type": "code",
   "execution_count": 29,
   "metadata": {},
   "outputs": [
    {
     "name": "stdout",
     "output_type": "stream",
     "text": [
      "(10574, 209)\n"
     ]
    }
   ],
   "source": [
    "from scipy.io import mmread\n",
    "the_matrix = mmread(\"/SSL_data/supervisedCNNs/Bray_bioactives/ChEMBL/Label_Matrix_Hofmarcher/label-matrix.mtx\")\n",
    "print(the_matrix.shape)"
   ]
  },
  {
   "cell_type": "code",
   "execution_count": 30,
   "metadata": {},
   "outputs": [
    {
     "name": "stdout",
     "output_type": "stream",
     "text": [
      "  (6537, 0)\t1\n",
      "  (6542, 0)\t1\n",
      "  (6543, 0)\t1\n",
      "  (6552, 0)\t-1\n",
      "  (6689, 0)\t-1\n",
      "  (6708, 0)\t1\n",
      "  (6821, 0)\t1\n",
      "  (6829, 0)\t1\n",
      "  (8169, 0)\t1\n",
      "  (8170, 0)\t1\n",
      "  (8174, 0)\t1\n",
      "  (8175, 0)\t1\n",
      "  (8176, 0)\t1\n",
      "  (8177, 0)\t1\n",
      "  (8180, 0)\t1\n",
      "  (8181, 0)\t-1\n",
      "  (8183, 0)\t1\n",
      "  (8184, 0)\t1\n",
      "  (8185, 0)\t1\n",
      "  (8187, 0)\t1\n",
      "  (8189, 0)\t1\n",
      "  (8190, 0)\t1\n",
      "  (8191, 0)\t1\n",
      "  (8192, 0)\t1\n",
      "  (8193, 0)\t1\n",
      "  :\t:\n",
      "  (9651, 208)\t-1\n",
      "  (9662, 208)\t-1\n",
      "  (9684, 208)\t-1\n",
      "  (9712, 208)\t-1\n",
      "  (9720, 208)\t-1\n",
      "  (9765, 208)\t-1\n",
      "  (9780, 208)\t-1\n",
      "  (9782, 208)\t-1\n",
      "  (9787, 208)\t-1\n",
      "  (9790, 208)\t-1\n",
      "  (9805, 208)\t-1\n",
      "  (9835, 208)\t-1\n",
      "  (9854, 208)\t-1\n",
      "  (9861, 208)\t-1\n",
      "  (9884, 208)\t-1\n",
      "  (9919, 208)\t-1\n",
      "  (9924, 208)\t-1\n",
      "  (9941, 208)\t-1\n",
      "  (9971, 208)\t-1\n",
      "  (10013, 208)\t-1\n",
      "  (10070, 208)\t-1\n",
      "  (10079, 208)\t-1\n",
      "  (10162, 208)\t-1\n",
      "  (10196, 208)\t-1\n",
      "  (10489, 208)\t-1\n"
     ]
    }
   ],
   "source": [
    "print(the_matrix)"
   ]
  },
  {
   "cell_type": "code",
   "execution_count": 31,
   "metadata": {},
   "outputs": [
    {
     "name": "stdout",
     "output_type": "stream",
     "text": [
      "(10574, 209)\n"
     ]
    }
   ],
   "source": [
    "labels = the_matrix.toarray()\n",
    "print(labels.shape)"
   ]
  },
  {
   "cell_type": "code",
   "execution_count": 32,
   "metadata": {},
   "outputs": [
    {
     "name": "stdout",
     "output_type": "stream",
     "text": [
      "(46868, 273)\n"
     ]
    }
   ],
   "source": [
    "print(compound_index_featuers.shape)"
   ]
  },
  {
   "cell_type": "code",
   "execution_count": 33,
   "metadata": {},
   "outputs": [
    {
     "name": "stdout",
     "output_type": "stream",
     "text": [
      "(32793, 273)\n"
     ]
    }
   ],
   "source": [
    "compound_index_featuers_train_3 = compound_index_featuers[compound_index_featuers['INCHIKEY'].isin(train_df_3['INCHIKEY'])]\n",
    "print(compound_index_featuers_train_3.shape)"
   ]
  },
  {
   "cell_type": "code",
   "execution_count": 34,
   "metadata": {},
   "outputs": [
    {
     "name": "stdout",
     "output_type": "stream",
     "text": [
      "(9361, 273)\n"
     ]
    }
   ],
   "source": [
    "compound_index_featuers_test_3 = compound_index_featuers[compound_index_featuers['INCHIKEY'].isin(test_df_3['INCHIKEY'])]\n",
    "print(compound_index_featuers_test_3.shape)"
   ]
  },
  {
   "cell_type": "code",
   "execution_count": 35,
   "metadata": {},
   "outputs": [
    {
     "name": "stdout",
     "output_type": "stream",
     "text": [
      "(4714, 273)\n"
     ]
    }
   ],
   "source": [
    "compound_index_featuers_val_3 = compound_index_featuers[compound_index_featuers['INCHIKEY'].isin(val_df_3['INCHIKEY'])]\n",
    "print(compound_index_featuers_val_3.shape)"
   ]
  },
  {
   "cell_type": "code",
   "execution_count": 36,
   "metadata": {},
   "outputs": [
    {
     "name": "stdout",
     "output_type": "stream",
     "text": [
      "(32793, 273)\n"
     ]
    }
   ],
   "source": [
    "data_train_3 = compound_index_featuers_train_3.to_numpy()\n",
    "print(data_train_3.shape)"
   ]
  },
  {
   "cell_type": "code",
   "execution_count": 37,
   "metadata": {},
   "outputs": [
    {
     "name": "stdout",
     "output_type": "stream",
     "text": [
      "(9361, 273)\n"
     ]
    }
   ],
   "source": [
    "data_test_3 = compound_index_featuers_test_3.to_numpy()\n",
    "print(data_test_3.shape)"
   ]
  },
  {
   "cell_type": "code",
   "execution_count": 38,
   "metadata": {},
   "outputs": [
    {
     "name": "stdout",
     "output_type": "stream",
     "text": [
      "(4714, 273)\n"
     ]
    }
   ],
   "source": [
    "data_val_3 = compound_index_featuers_val_3.to_numpy()\n",
    "print(data_val_3.shape)"
   ]
  },
  {
   "cell_type": "code",
   "execution_count": 39,
   "metadata": {},
   "outputs": [
    {
     "name": "stdout",
     "output_type": "stream",
     "text": [
      "(10574, 209)\n"
     ]
    }
   ],
   "source": [
    "print(labels.shape)"
   ]
  },
  {
   "cell_type": "code",
   "execution_count": 40,
   "metadata": {},
   "outputs": [
    {
     "name": "stdout",
     "output_type": "stream",
     "text": [
      "(32793, 209)\n"
     ]
    }
   ],
   "source": [
    "complete_labels_train_3 =[]\n",
    "for row in data_train_3:\n",
    "        complete_labels_train_3.append(labels[row[0]])\n",
    "complete_labels_train_3 = np.array(complete_labels_train_3)\n",
    "print(complete_labels_train_3.shape)"
   ]
  },
  {
   "cell_type": "code",
   "execution_count": 41,
   "metadata": {},
   "outputs": [
    {
     "name": "stdout",
     "output_type": "stream",
     "text": [
      "(9361, 209)\n"
     ]
    }
   ],
   "source": [
    "complete_labels_test_3 =[]\n",
    "for row in data_test_3:\n",
    "        complete_labels_test_3.append(labels[row[0]])\n",
    "complete_labels_test_3 = np.array(complete_labels_test_3)\n",
    "print(complete_labels_test_3.shape)"
   ]
  },
  {
   "cell_type": "code",
   "execution_count": 42,
   "metadata": {},
   "outputs": [
    {
     "name": "stdout",
     "output_type": "stream",
     "text": [
      "(4714, 209)\n"
     ]
    }
   ],
   "source": [
    "complete_labels_val_3 =[]\n",
    "for row in data_val_3:\n",
    "        complete_labels_val_3.append(labels[row[0]])\n",
    "complete_labels_val_3 = np.array(complete_labels_val_3)\n",
    "print(complete_labels_val_3.shape)"
   ]
  },
  {
   "cell_type": "code",
   "execution_count": 43,
   "metadata": {},
   "outputs": [
    {
     "name": "stdout",
     "output_type": "stream",
     "text": [
      "[[0 'IENZQIKPVFGBNW-UHFFFAOYSA-N' 0.3348176061876053 ...\n",
      "  1.0471962618309707 -0.1003683394503087 1.3074855022835752]\n",
      " [0 'IENZQIKPVFGBNW-UHFFFAOYSA-N' -0.5240294909048041 ...\n",
      "  -0.9170041223014592 -0.6950384489143155 -1.618507320326431]\n",
      " [0 'IENZQIKPVFGBNW-UHFFFAOYSA-N' 0.8127623744852834 ...\n",
      "  1.4707974751583373 0.2969140476712674 -0.8340753285553378]\n",
      " ...\n",
      " [10571 'YAJYINBQFXCAPI-PFPZSTESSA-N' 0.8057629597040371 ...\n",
      "  1.5862600589357088 -0.8147514997414632 0.2079127237112941]\n",
      " [10571 'YAJYINBQFXCAPI-PFPZSTESSA-N' 0.8806734499512878 ...\n",
      "  -0.1072417268111464 0.5434782873494887 -0.5320157980528339]\n",
      " [10571 'YAJYINBQFXCAPI-PFPZSTESSA-N' -0.3982987344568561 ...\n",
      "  -0.4036100953459722 -0.03478793118381 0.4213423429644478]]\n"
     ]
    }
   ],
   "source": [
    "print(data_train_3)"
   ]
  },
  {
   "cell_type": "code",
   "execution_count": 44,
   "metadata": {},
   "outputs": [
    {
     "name": "stdout",
     "output_type": "stream",
     "text": [
      "(32793, 271)\n"
     ]
    }
   ],
   "source": [
    "final_featuers_train_3 = data_train_3[:,2:]\n",
    "print(final_featuers_train_3.shape)"
   ]
  },
  {
   "cell_type": "code",
   "execution_count": 45,
   "metadata": {},
   "outputs": [
    {
     "name": "stdout",
     "output_type": "stream",
     "text": [
      "(9361, 271)\n"
     ]
    }
   ],
   "source": [
    "final_featuers_test_3 = data_test_3[:,2:]\n",
    "print(final_featuers_test_3.shape)"
   ]
  },
  {
   "cell_type": "code",
   "execution_count": 46,
   "metadata": {},
   "outputs": [
    {
     "name": "stdout",
     "output_type": "stream",
     "text": [
      "(4714, 271)\n"
     ]
    }
   ],
   "source": [
    "final_featuers_val_3 = data_val_3[:,2:]\n",
    "print(final_featuers_val_3.shape)"
   ]
  },
  {
   "cell_type": "code",
   "execution_count": 47,
   "metadata": {},
   "outputs": [
    {
     "name": "stdout",
     "output_type": "stream",
     "text": [
      "[[ True  True  True ...  True  True  True]\n",
      " [ True  True  True ...  True  True  True]\n",
      " [ True  True  True ...  True  True  True]\n",
      " ...\n",
      " [ True  True  True ...  True  True  True]\n",
      " [ True  True  True ...  True  True  True]\n",
      " [ True  True  True ...  True  True  True]]\n",
      "[[ True  True  True ...  True  True  True]\n",
      " [ True  True  True ...  True  True  True]\n",
      " [ True  True  True ...  True  True  True]\n",
      " ...\n",
      " [ True  True  True ...  True  True  True]\n",
      " [ True  True  True ...  True  True  True]\n",
      " [ True  True  True ...  True  True  True]]\n"
     ]
    }
   ],
   "source": [
    "np.save('/SSL_data/supervisedCNNs/Bray_bioactives/processed_data/dino/data_split_3/features_train3.npy', final_featuers_train_3)\n",
    "np.save('/SSL_data/supervisedCNNs/Bray_bioactives/processed_data/dino/data_split_3/all_labels_train3.npy', complete_labels_train_3)\n",
    "\n",
    "\n",
    "np.save('/SSL_data/supervisedCNNs/Bray_bioactives/processed_data/dino/data_split_3/features_test3.npy', final_featuers_test_3)\n",
    "np.save('/SSL_data/supervisedCNNs/Bray_bioactives/processed_data/dino/data_split_3/all_labels_test3.npy', complete_labels_test_3)\n",
    "\n",
    "np.save('/SSL_data/supervisedCNNs/Bray_bioactives/processed_data/dino/data_split_3/features_val3.npy', final_featuers_val_3)\n",
    "np.save('/SSL_data/supervisedCNNs/Bray_bioactives/processed_data/dino/data_split_3/all_labels_val3.npy', complete_labels_val_3)\n",
    "\n",
    "\n",
    "l = np.load('/SSL_data/supervisedCNNs/Bray_bioactives/processed_data/dino/data_split_3/all_labels_val3.npy')\n",
    "f = np.load('/SSL_data/supervisedCNNs/Bray_bioactives/processed_data/dino/data_split_3/features_val3.npy', allow_pickle=True)\n",
    "\n",
    "print(l == complete_labels_val_3)\n",
    "print(f == final_featuers_val_3)"
   ]
  }
 ],
 "metadata": {
  "kernelspec": {
   "display_name": "cpenv",
   "language": "python",
   "name": "python3"
  },
  "language_info": {
   "codemirror_mode": {
    "name": "ipython",
    "version": 3
   },
   "file_extension": ".py",
   "mimetype": "text/x-python",
   "name": "python",
   "nbconvert_exporter": "python",
   "pygments_lexer": "ipython3",
   "version": "3.9.18"
  }
 },
 "nbformat": 4,
 "nbformat_minor": 2
}
