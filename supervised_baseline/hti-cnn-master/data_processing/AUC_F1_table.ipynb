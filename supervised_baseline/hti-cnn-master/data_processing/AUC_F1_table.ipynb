{
 "cells": [
  {
   "cell_type": "markdown",
   "metadata": {},
   "source": [
    "# AUCs"
   ]
  },
  {
   "cell_type": "code",
   "execution_count": 1,
   "metadata": {},
   "outputs": [],
   "source": [
    "import os\n",
    "import pandas as pd\n",
    "import numpy as np"
   ]
  },
  {
   "cell_type": "code",
   "execution_count": 2,
   "metadata": {},
   "outputs": [],
   "source": [
    "cellpainting_assay_chembl_id = pd.read_csv('/SSL_data/supervisedCNNs/Bray_bioactives/cellpainting-assay-chembl-ids.csv')"
   ]
  },
  {
   "cell_type": "code",
   "execution_count": 3,
   "metadata": {},
   "outputs": [
    {
     "data": {
      "text/html": [
       "<div>\n",
       "<style scoped>\n",
       "    .dataframe tbody tr th:only-of-type {\n",
       "        vertical-align: middle;\n",
       "    }\n",
       "\n",
       "    .dataframe tbody tr th {\n",
       "        vertical-align: top;\n",
       "    }\n",
       "\n",
       "    .dataframe thead th {\n",
       "        text-align: right;\n",
       "    }\n",
       "</style>\n",
       "<table border=\"1\" class=\"dataframe\">\n",
       "  <thead>\n",
       "    <tr style=\"text-align: right;\">\n",
       "      <th></th>\n",
       "      <th>ASSAY_ID</th>\n",
       "      <th>CHEMBL_ID</th>\n",
       "    </tr>\n",
       "  </thead>\n",
       "  <tbody>\n",
       "    <tr>\n",
       "      <th>0</th>\n",
       "      <td>600885</td>\n",
       "      <td>CHEMBL1040691</td>\n",
       "    </tr>\n",
       "    <tr>\n",
       "      <th>1</th>\n",
       "      <td>600886</td>\n",
       "      <td>CHEMBL1040692</td>\n",
       "    </tr>\n",
       "    <tr>\n",
       "      <th>2</th>\n",
       "      <td>688141</td>\n",
       "      <td>CHEMBL1614174</td>\n",
       "    </tr>\n",
       "    <tr>\n",
       "      <th>3</th>\n",
       "      <td>688155</td>\n",
       "      <td>CHEMBL1614234</td>\n",
       "    </tr>\n",
       "    <tr>\n",
       "      <th>4</th>\n",
       "      <td>688157</td>\n",
       "      <td>CHEMBL1614236</td>\n",
       "    </tr>\n",
       "  </tbody>\n",
       "</table>\n",
       "</div>"
      ],
      "text/plain": [
       "   ASSAY_ID      CHEMBL_ID\n",
       "0    600885  CHEMBL1040691\n",
       "1    600886  CHEMBL1040692\n",
       "2    688141  CHEMBL1614174\n",
       "3    688155  CHEMBL1614234\n",
       "4    688157  CHEMBL1614236"
      ]
     },
     "execution_count": 3,
     "metadata": {},
     "output_type": "execute_result"
    }
   ],
   "source": [
    "cellpainting_assay_chembl_id.head()"
   ]
  },
  {
   "cell_type": "code",
   "execution_count": 4,
   "metadata": {},
   "outputs": [
    {
     "name": "stdout",
     "output_type": "stream",
     "text": [
      "202\n"
     ]
    }
   ],
   "source": [
    "print(len(cellpainting_assay_chembl_id))"
   ]
  },
  {
   "cell_type": "code",
   "execution_count": 5,
   "metadata": {},
   "outputs": [
    {
     "name": "stdout",
     "output_type": "stream",
     "text": [
      "202\n"
     ]
    }
   ],
   "source": [
    "print(len(cellpainting_assay_chembl_id[\"ASSAY_ID\"].unique()))"
   ]
  },
  {
   "cell_type": "code",
   "execution_count": 6,
   "metadata": {},
   "outputs": [],
   "source": [
    "column_assay_index = pd.read_csv('/SSL_data/supervisedCNNs/Bray_bioactives/column-assay-index.csv')"
   ]
  },
  {
   "cell_type": "code",
   "execution_count": 7,
   "metadata": {},
   "outputs": [
    {
     "data": {
      "text/html": [
       "<div>\n",
       "<style scoped>\n",
       "    .dataframe tbody tr th:only-of-type {\n",
       "        vertical-align: middle;\n",
       "    }\n",
       "\n",
       "    .dataframe tbody tr th {\n",
       "        vertical-align: top;\n",
       "    }\n",
       "\n",
       "    .dataframe thead th {\n",
       "        text-align: right;\n",
       "    }\n",
       "</style>\n",
       "<table border=\"1\" class=\"dataframe\">\n",
       "  <thead>\n",
       "    <tr style=\"text-align: right;\">\n",
       "      <th></th>\n",
       "      <th>ASSAY_ID</th>\n",
       "    </tr>\n",
       "  </thead>\n",
       "  <tbody>\n",
       "    <tr>\n",
       "      <th>0</th>\n",
       "      <td>600885</td>\n",
       "    </tr>\n",
       "    <tr>\n",
       "      <th>1</th>\n",
       "      <td>688422</td>\n",
       "    </tr>\n",
       "    <tr>\n",
       "      <th>2</th>\n",
       "      <td>688493</td>\n",
       "    </tr>\n",
       "    <tr>\n",
       "      <th>3</th>\n",
       "      <td>688810</td>\n",
       "    </tr>\n",
       "    <tr>\n",
       "      <th>4</th>\n",
       "      <td>688812</td>\n",
       "    </tr>\n",
       "  </tbody>\n",
       "</table>\n",
       "</div>"
      ],
      "text/plain": [
       "   ASSAY_ID\n",
       "0    600885\n",
       "1    688422\n",
       "2    688493\n",
       "3    688810\n",
       "4    688812"
      ]
     },
     "execution_count": 7,
     "metadata": {},
     "output_type": "execute_result"
    }
   ],
   "source": [
    "column_assay_index.head()"
   ]
  },
  {
   "cell_type": "code",
   "execution_count": 8,
   "metadata": {},
   "outputs": [
    {
     "name": "stdout",
     "output_type": "stream",
     "text": [
      "209\n"
     ]
    }
   ],
   "source": [
    "print(len(column_assay_index))"
   ]
  },
  {
   "cell_type": "code",
   "execution_count": 9,
   "metadata": {},
   "outputs": [
    {
     "name": "stdout",
     "output_type": "stream",
     "text": [
      "202\n"
     ]
    }
   ],
   "source": [
    "print(len(column_assay_index[\"ASSAY_ID\"].unique()))"
   ]
  },
  {
   "cell_type": "code",
   "execution_count": 10,
   "metadata": {},
   "outputs": [
    {
     "data": {
      "text/html": [
       "<div>\n",
       "<style scoped>\n",
       "    .dataframe tbody tr th:only-of-type {\n",
       "        vertical-align: middle;\n",
       "    }\n",
       "\n",
       "    .dataframe tbody tr th {\n",
       "        vertical-align: top;\n",
       "    }\n",
       "\n",
       "    .dataframe thead th {\n",
       "        text-align: right;\n",
       "    }\n",
       "</style>\n",
       "<table border=\"1\" class=\"dataframe\">\n",
       "  <thead>\n",
       "    <tr style=\"text-align: right;\">\n",
       "      <th></th>\n",
       "      <th>ASSAY_ID</th>\n",
       "      <th>Index</th>\n",
       "    </tr>\n",
       "  </thead>\n",
       "  <tbody>\n",
       "    <tr>\n",
       "      <th>0</th>\n",
       "      <td>600885</td>\n",
       "      <td>0</td>\n",
       "    </tr>\n",
       "    <tr>\n",
       "      <th>1</th>\n",
       "      <td>688422</td>\n",
       "      <td>1</td>\n",
       "    </tr>\n",
       "    <tr>\n",
       "      <th>2</th>\n",
       "      <td>688493</td>\n",
       "      <td>2</td>\n",
       "    </tr>\n",
       "    <tr>\n",
       "      <th>3</th>\n",
       "      <td>688810</td>\n",
       "      <td>3</td>\n",
       "    </tr>\n",
       "    <tr>\n",
       "      <th>4</th>\n",
       "      <td>688812</td>\n",
       "      <td>4</td>\n",
       "    </tr>\n",
       "  </tbody>\n",
       "</table>\n",
       "</div>"
      ],
      "text/plain": [
       "   ASSAY_ID  Index\n",
       "0    600885      0\n",
       "1    688422      1\n",
       "2    688493      2\n",
       "3    688810      3\n",
       "4    688812      4"
      ]
     },
     "execution_count": 10,
     "metadata": {},
     "output_type": "execute_result"
    }
   ],
   "source": [
    "column_assay_index['Index'] = column_assay_index.index \n",
    "column_assay_index.head()"
   ]
  },
  {
   "cell_type": "code",
   "execution_count": 11,
   "metadata": {},
   "outputs": [
    {
     "name": "stdout",
     "output_type": "stream",
     "text": [
      "209\n"
     ]
    }
   ],
   "source": [
    "print(len(column_assay_index))"
   ]
  },
  {
   "cell_type": "code",
   "execution_count": 12,
   "metadata": {},
   "outputs": [
    {
     "name": "stdout",
     "output_type": "stream",
     "text": [
      "202\n"
     ]
    }
   ],
   "source": [
    "print(len(column_assay_index.drop_duplicates(subset=['ASSAY_ID'])))"
   ]
  },
  {
   "cell_type": "code",
   "execution_count": 13,
   "metadata": {},
   "outputs": [],
   "source": [
    "assay_chembl= pd.merge(cellpainting_assay_chembl_id, column_assay_index, on='ASSAY_ID')"
   ]
  },
  {
   "cell_type": "code",
   "execution_count": 14,
   "metadata": {},
   "outputs": [
    {
     "data": {
      "text/html": [
       "<div>\n",
       "<style scoped>\n",
       "    .dataframe tbody tr th:only-of-type {\n",
       "        vertical-align: middle;\n",
       "    }\n",
       "\n",
       "    .dataframe tbody tr th {\n",
       "        vertical-align: top;\n",
       "    }\n",
       "\n",
       "    .dataframe thead th {\n",
       "        text-align: right;\n",
       "    }\n",
       "</style>\n",
       "<table border=\"1\" class=\"dataframe\">\n",
       "  <thead>\n",
       "    <tr style=\"text-align: right;\">\n",
       "      <th></th>\n",
       "      <th>ASSAY_ID</th>\n",
       "      <th>CHEMBL_ID</th>\n",
       "      <th>Index</th>\n",
       "    </tr>\n",
       "  </thead>\n",
       "  <tbody>\n",
       "    <tr>\n",
       "      <th>0</th>\n",
       "      <td>600885</td>\n",
       "      <td>CHEMBL1040691</td>\n",
       "      <td>0</td>\n",
       "    </tr>\n",
       "    <tr>\n",
       "      <th>1</th>\n",
       "      <td>600885</td>\n",
       "      <td>CHEMBL1040691</td>\n",
       "      <td>22</td>\n",
       "    </tr>\n",
       "    <tr>\n",
       "      <th>2</th>\n",
       "      <td>600886</td>\n",
       "      <td>CHEMBL1040692</td>\n",
       "      <td>23</td>\n",
       "    </tr>\n",
       "    <tr>\n",
       "      <th>3</th>\n",
       "      <td>688141</td>\n",
       "      <td>CHEMBL1614174</td>\n",
       "      <td>12</td>\n",
       "    </tr>\n",
       "    <tr>\n",
       "      <th>4</th>\n",
       "      <td>688155</td>\n",
       "      <td>CHEMBL1614234</td>\n",
       "      <td>13</td>\n",
       "    </tr>\n",
       "  </tbody>\n",
       "</table>\n",
       "</div>"
      ],
      "text/plain": [
       "   ASSAY_ID      CHEMBL_ID  Index\n",
       "0    600885  CHEMBL1040691      0\n",
       "1    600885  CHEMBL1040691     22\n",
       "2    600886  CHEMBL1040692     23\n",
       "3    688141  CHEMBL1614174     12\n",
       "4    688155  CHEMBL1614234     13"
      ]
     },
     "execution_count": 14,
     "metadata": {},
     "output_type": "execute_result"
    }
   ],
   "source": [
    "assay_chembl.head()"
   ]
  },
  {
   "cell_type": "code",
   "execution_count": 15,
   "metadata": {},
   "outputs": [
    {
     "name": "stdout",
     "output_type": "stream",
     "text": [
      "209\n"
     ]
    }
   ],
   "source": [
    "print(len(assay_chembl))"
   ]
  },
  {
   "cell_type": "code",
   "execution_count": 17,
   "metadata": {},
   "outputs": [],
   "source": [
    "supporting_info = pd.read_excel('/SSL_data/supervisedCNNs/Bray_bioactives/Supporting_Information_Table_S5.ods', engine=\"odf\")"
   ]
  },
  {
   "cell_type": "code",
   "execution_count": 18,
   "metadata": {},
   "outputs": [
    {
     "data": {
      "text/html": [
       "<div>\n",
       "<style scoped>\n",
       "    .dataframe tbody tr th:only-of-type {\n",
       "        vertical-align: middle;\n",
       "    }\n",
       "\n",
       "    .dataframe tbody tr th {\n",
       "        vertical-align: top;\n",
       "    }\n",
       "\n",
       "    .dataframe thead th {\n",
       "        text-align: right;\n",
       "    }\n",
       "</style>\n",
       "<table border=\"1\" class=\"dataframe\">\n",
       "  <thead>\n",
       "    <tr style=\"text-align: right;\">\n",
       "      <th></th>\n",
       "      <th>Assay</th>\n",
       "      <th>ResNet</th>\n",
       "      <th>DenseNet</th>\n",
       "      <th>GapNet</th>\n",
       "      <th>M-CNN</th>\n",
       "      <th>MIL-Net</th>\n",
       "      <th>SC-CNN</th>\n",
       "      <th>FNN</th>\n",
       "    </tr>\n",
       "  </thead>\n",
       "  <tbody>\n",
       "    <tr>\n",
       "      <th>0</th>\n",
       "      <td>CHEMBL1040691</td>\n",
       "      <td>0.382073</td>\n",
       "      <td>0.353741</td>\n",
       "      <td>0.400147</td>\n",
       "      <td>0.343896</td>\n",
       "      <td>0.335975</td>\n",
       "      <td>0.390464</td>\n",
       "      <td>0.545872</td>\n",
       "    </tr>\n",
       "    <tr>\n",
       "      <th>1</th>\n",
       "      <td>CHEMBL1614544</td>\n",
       "      <td>0.714242</td>\n",
       "      <td>0.686680</td>\n",
       "      <td>0.679266</td>\n",
       "      <td>0.722256</td>\n",
       "      <td>0.724828</td>\n",
       "      <td>0.616412</td>\n",
       "      <td>0.605515</td>\n",
       "    </tr>\n",
       "    <tr>\n",
       "      <th>2</th>\n",
       "      <td>CHEMBL1613914</td>\n",
       "      <td>0.544170</td>\n",
       "      <td>0.534179</td>\n",
       "      <td>0.511029</td>\n",
       "      <td>0.546714</td>\n",
       "      <td>0.508282</td>\n",
       "      <td>0.564776</td>\n",
       "      <td>0.402460</td>\n",
       "    </tr>\n",
       "    <tr>\n",
       "      <th>3</th>\n",
       "      <td>CHEMBL1613836</td>\n",
       "      <td>0.492456</td>\n",
       "      <td>0.465515</td>\n",
       "      <td>0.448211</td>\n",
       "      <td>0.461176</td>\n",
       "      <td>0.503378</td>\n",
       "      <td>0.401288</td>\n",
       "      <td>0.511324</td>\n",
       "    </tr>\n",
       "    <tr>\n",
       "      <th>4</th>\n",
       "      <td>CHEMBL1613838</td>\n",
       "      <td>0.435541</td>\n",
       "      <td>0.496423</td>\n",
       "      <td>0.433868</td>\n",
       "      <td>0.479750</td>\n",
       "      <td>0.552495</td>\n",
       "      <td>0.490792</td>\n",
       "      <td>0.578471</td>\n",
       "    </tr>\n",
       "  </tbody>\n",
       "</table>\n",
       "</div>"
      ],
      "text/plain": [
       "           Assay    ResNet  DenseNet    GapNet     M-CNN   MIL-Net    SC-CNN  \\\n",
       "0  CHEMBL1040691  0.382073  0.353741  0.400147  0.343896  0.335975  0.390464   \n",
       "1  CHEMBL1614544  0.714242  0.686680  0.679266  0.722256  0.724828  0.616412   \n",
       "2  CHEMBL1613914  0.544170  0.534179  0.511029  0.546714  0.508282  0.564776   \n",
       "3  CHEMBL1613836  0.492456  0.465515  0.448211  0.461176  0.503378  0.401288   \n",
       "4  CHEMBL1613838  0.435541  0.496423  0.433868  0.479750  0.552495  0.490792   \n",
       "\n",
       "        FNN  \n",
       "0  0.545872  \n",
       "1  0.605515  \n",
       "2  0.402460  \n",
       "3  0.511324  \n",
       "4  0.578471  "
      ]
     },
     "execution_count": 18,
     "metadata": {},
     "output_type": "execute_result"
    }
   ],
   "source": [
    "supporting_info.head()"
   ]
  },
  {
   "cell_type": "code",
   "execution_count": 19,
   "metadata": {},
   "outputs": [],
   "source": [
    "supporting_info= supporting_info.rename(columns={\"Assay\": \"CHEMBL_ID\"})"
   ]
  },
  {
   "cell_type": "code",
   "execution_count": 20,
   "metadata": {},
   "outputs": [
    {
     "data": {
      "text/html": [
       "<div>\n",
       "<style scoped>\n",
       "    .dataframe tbody tr th:only-of-type {\n",
       "        vertical-align: middle;\n",
       "    }\n",
       "\n",
       "    .dataframe tbody tr th {\n",
       "        vertical-align: top;\n",
       "    }\n",
       "\n",
       "    .dataframe thead th {\n",
       "        text-align: right;\n",
       "    }\n",
       "</style>\n",
       "<table border=\"1\" class=\"dataframe\">\n",
       "  <thead>\n",
       "    <tr style=\"text-align: right;\">\n",
       "      <th></th>\n",
       "      <th>CHEMBL_ID</th>\n",
       "      <th>ResNet</th>\n",
       "      <th>DenseNet</th>\n",
       "      <th>GapNet</th>\n",
       "      <th>M-CNN</th>\n",
       "      <th>MIL-Net</th>\n",
       "      <th>SC-CNN</th>\n",
       "      <th>FNN</th>\n",
       "    </tr>\n",
       "  </thead>\n",
       "  <tbody>\n",
       "    <tr>\n",
       "      <th>0</th>\n",
       "      <td>CHEMBL1040691</td>\n",
       "      <td>0.382073</td>\n",
       "      <td>0.353741</td>\n",
       "      <td>0.400147</td>\n",
       "      <td>0.343896</td>\n",
       "      <td>0.335975</td>\n",
       "      <td>0.390464</td>\n",
       "      <td>0.545872</td>\n",
       "    </tr>\n",
       "    <tr>\n",
       "      <th>1</th>\n",
       "      <td>CHEMBL1614544</td>\n",
       "      <td>0.714242</td>\n",
       "      <td>0.686680</td>\n",
       "      <td>0.679266</td>\n",
       "      <td>0.722256</td>\n",
       "      <td>0.724828</td>\n",
       "      <td>0.616412</td>\n",
       "      <td>0.605515</td>\n",
       "    </tr>\n",
       "    <tr>\n",
       "      <th>2</th>\n",
       "      <td>CHEMBL1613914</td>\n",
       "      <td>0.544170</td>\n",
       "      <td>0.534179</td>\n",
       "      <td>0.511029</td>\n",
       "      <td>0.546714</td>\n",
       "      <td>0.508282</td>\n",
       "      <td>0.564776</td>\n",
       "      <td>0.402460</td>\n",
       "    </tr>\n",
       "    <tr>\n",
       "      <th>3</th>\n",
       "      <td>CHEMBL1613836</td>\n",
       "      <td>0.492456</td>\n",
       "      <td>0.465515</td>\n",
       "      <td>0.448211</td>\n",
       "      <td>0.461176</td>\n",
       "      <td>0.503378</td>\n",
       "      <td>0.401288</td>\n",
       "      <td>0.511324</td>\n",
       "    </tr>\n",
       "    <tr>\n",
       "      <th>4</th>\n",
       "      <td>CHEMBL1613838</td>\n",
       "      <td>0.435541</td>\n",
       "      <td>0.496423</td>\n",
       "      <td>0.433868</td>\n",
       "      <td>0.479750</td>\n",
       "      <td>0.552495</td>\n",
       "      <td>0.490792</td>\n",
       "      <td>0.578471</td>\n",
       "    </tr>\n",
       "  </tbody>\n",
       "</table>\n",
       "</div>"
      ],
      "text/plain": [
       "       CHEMBL_ID    ResNet  DenseNet    GapNet     M-CNN   MIL-Net    SC-CNN  \\\n",
       "0  CHEMBL1040691  0.382073  0.353741  0.400147  0.343896  0.335975  0.390464   \n",
       "1  CHEMBL1614544  0.714242  0.686680  0.679266  0.722256  0.724828  0.616412   \n",
       "2  CHEMBL1613914  0.544170  0.534179  0.511029  0.546714  0.508282  0.564776   \n",
       "3  CHEMBL1613836  0.492456  0.465515  0.448211  0.461176  0.503378  0.401288   \n",
       "4  CHEMBL1613838  0.435541  0.496423  0.433868  0.479750  0.552495  0.490792   \n",
       "\n",
       "        FNN  \n",
       "0  0.545872  \n",
       "1  0.605515  \n",
       "2  0.402460  \n",
       "3  0.511324  \n",
       "4  0.578471  "
      ]
     },
     "execution_count": 20,
     "metadata": {},
     "output_type": "execute_result"
    }
   ],
   "source": [
    "supporting_info.head()"
   ]
  },
  {
   "cell_type": "code",
   "execution_count": 21,
   "metadata": {},
   "outputs": [
    {
     "data": {
      "text/html": [
       "<div>\n",
       "<style scoped>\n",
       "    .dataframe tbody tr th:only-of-type {\n",
       "        vertical-align: middle;\n",
       "    }\n",
       "\n",
       "    .dataframe tbody tr th {\n",
       "        vertical-align: top;\n",
       "    }\n",
       "\n",
       "    .dataframe thead th {\n",
       "        text-align: right;\n",
       "    }\n",
       "</style>\n",
       "<table border=\"1\" class=\"dataframe\">\n",
       "  <thead>\n",
       "    <tr style=\"text-align: right;\">\n",
       "      <th></th>\n",
       "      <th>ASSAY_ID</th>\n",
       "      <th>CHEMBL_ID</th>\n",
       "      <th>Index</th>\n",
       "      <th>ResNet</th>\n",
       "      <th>DenseNet</th>\n",
       "      <th>GapNet</th>\n",
       "      <th>M-CNN</th>\n",
       "      <th>MIL-Net</th>\n",
       "      <th>SC-CNN</th>\n",
       "      <th>FNN</th>\n",
       "    </tr>\n",
       "  </thead>\n",
       "  <tbody>\n",
       "    <tr>\n",
       "      <th>0</th>\n",
       "      <td>600885</td>\n",
       "      <td>CHEMBL1040691</td>\n",
       "      <td>0</td>\n",
       "      <td>0.382073</td>\n",
       "      <td>0.353741</td>\n",
       "      <td>0.400147</td>\n",
       "      <td>0.343896</td>\n",
       "      <td>0.335975</td>\n",
       "      <td>0.390464</td>\n",
       "      <td>0.545872</td>\n",
       "    </tr>\n",
       "    <tr>\n",
       "      <th>1</th>\n",
       "      <td>600885</td>\n",
       "      <td>CHEMBL1040691</td>\n",
       "      <td>0</td>\n",
       "      <td>0.468936</td>\n",
       "      <td>0.509693</td>\n",
       "      <td>0.391711</td>\n",
       "      <td>0.409029</td>\n",
       "      <td>0.487797</td>\n",
       "      <td>0.474054</td>\n",
       "      <td>0.578887</td>\n",
       "    </tr>\n",
       "    <tr>\n",
       "      <th>2</th>\n",
       "      <td>600885</td>\n",
       "      <td>CHEMBL1040691</td>\n",
       "      <td>22</td>\n",
       "      <td>0.382073</td>\n",
       "      <td>0.353741</td>\n",
       "      <td>0.400147</td>\n",
       "      <td>0.343896</td>\n",
       "      <td>0.335975</td>\n",
       "      <td>0.390464</td>\n",
       "      <td>0.545872</td>\n",
       "    </tr>\n",
       "    <tr>\n",
       "      <th>3</th>\n",
       "      <td>600885</td>\n",
       "      <td>CHEMBL1040691</td>\n",
       "      <td>22</td>\n",
       "      <td>0.468936</td>\n",
       "      <td>0.509693</td>\n",
       "      <td>0.391711</td>\n",
       "      <td>0.409029</td>\n",
       "      <td>0.487797</td>\n",
       "      <td>0.474054</td>\n",
       "      <td>0.578887</td>\n",
       "    </tr>\n",
       "    <tr>\n",
       "      <th>4</th>\n",
       "      <td>600886</td>\n",
       "      <td>CHEMBL1040692</td>\n",
       "      <td>23</td>\n",
       "      <td>0.590332</td>\n",
       "      <td>0.599425</td>\n",
       "      <td>0.585017</td>\n",
       "      <td>0.567313</td>\n",
       "      <td>0.524417</td>\n",
       "      <td>0.488813</td>\n",
       "      <td>0.596216</td>\n",
       "    </tr>\n",
       "  </tbody>\n",
       "</table>\n",
       "</div>"
      ],
      "text/plain": [
       "   ASSAY_ID      CHEMBL_ID  Index    ResNet  DenseNet    GapNet     M-CNN  \\\n",
       "0    600885  CHEMBL1040691      0  0.382073  0.353741  0.400147  0.343896   \n",
       "1    600885  CHEMBL1040691      0  0.468936  0.509693  0.391711  0.409029   \n",
       "2    600885  CHEMBL1040691     22  0.382073  0.353741  0.400147  0.343896   \n",
       "3    600885  CHEMBL1040691     22  0.468936  0.509693  0.391711  0.409029   \n",
       "4    600886  CHEMBL1040692     23  0.590332  0.599425  0.585017  0.567313   \n",
       "\n",
       "    MIL-Net    SC-CNN       FNN  \n",
       "0  0.335975  0.390464  0.545872  \n",
       "1  0.487797  0.474054  0.578887  \n",
       "2  0.335975  0.390464  0.545872  \n",
       "3  0.487797  0.474054  0.578887  \n",
       "4  0.524417  0.488813  0.596216  "
      ]
     },
     "execution_count": 21,
     "metadata": {},
     "output_type": "execute_result"
    }
   ],
   "source": [
    "final_df= pd.merge(assay_chembl, supporting_info, on='CHEMBL_ID')\n",
    "final_df.head()"
   ]
  },
  {
   "cell_type": "code",
   "execution_count": 22,
   "metadata": {},
   "outputs": [
    {
     "name": "stdout",
     "output_type": "stream",
     "text": [
      "227\n"
     ]
    }
   ],
   "source": [
    "print(len(final_df))"
   ]
  },
  {
   "cell_type": "code",
   "execution_count": 23,
   "metadata": {},
   "outputs": [
    {
     "data": {
      "text/html": [
       "<div>\n",
       "<style scoped>\n",
       "    .dataframe tbody tr th:only-of-type {\n",
       "        vertical-align: middle;\n",
       "    }\n",
       "\n",
       "    .dataframe tbody tr th {\n",
       "        vertical-align: top;\n",
       "    }\n",
       "\n",
       "    .dataframe thead th {\n",
       "        text-align: right;\n",
       "    }\n",
       "</style>\n",
       "<table border=\"1\" class=\"dataframe\">\n",
       "  <thead>\n",
       "    <tr style=\"text-align: right;\">\n",
       "      <th></th>\n",
       "      <th>Dino</th>\n",
       "    </tr>\n",
       "  </thead>\n",
       "  <tbody>\n",
       "    <tr>\n",
       "      <th>0</th>\n",
       "      <td>0.483832</td>\n",
       "    </tr>\n",
       "    <tr>\n",
       "      <th>1</th>\n",
       "      <td>0.693760</td>\n",
       "    </tr>\n",
       "    <tr>\n",
       "      <th>2</th>\n",
       "      <td>0.450090</td>\n",
       "    </tr>\n",
       "    <tr>\n",
       "      <th>3</th>\n",
       "      <td>0.446477</td>\n",
       "    </tr>\n",
       "    <tr>\n",
       "      <th>4</th>\n",
       "      <td>0.479900</td>\n",
       "    </tr>\n",
       "  </tbody>\n",
       "</table>\n",
       "</div>"
      ],
      "text/plain": [
       "       Dino\n",
       "0  0.483832\n",
       "1  0.693760\n",
       "2  0.450090\n",
       "3  0.446477\n",
       "4  0.479900"
      ]
     },
     "execution_count": 23,
     "metadata": {},
     "output_type": "execute_result"
    }
   ],
   "source": [
    "dino_auc = pd.read_csv (r'/SSL_data/supervisedCNNs/Bray_bioactives/dino_auc.txt')\n",
    "dino_auc.head()"
   ]
  },
  {
   "cell_type": "code",
   "execution_count": 24,
   "metadata": {},
   "outputs": [
    {
     "data": {
      "text/html": [
       "<div>\n",
       "<style scoped>\n",
       "    .dataframe tbody tr th:only-of-type {\n",
       "        vertical-align: middle;\n",
       "    }\n",
       "\n",
       "    .dataframe tbody tr th {\n",
       "        vertical-align: top;\n",
       "    }\n",
       "\n",
       "    .dataframe thead th {\n",
       "        text-align: right;\n",
       "    }\n",
       "</style>\n",
       "<table border=\"1\" class=\"dataframe\">\n",
       "  <thead>\n",
       "    <tr style=\"text-align: right;\">\n",
       "      <th></th>\n",
       "      <th>Dino</th>\n",
       "      <th>Index</th>\n",
       "    </tr>\n",
       "  </thead>\n",
       "  <tbody>\n",
       "    <tr>\n",
       "      <th>0</th>\n",
       "      <td>0.483832</td>\n",
       "      <td>0</td>\n",
       "    </tr>\n",
       "    <tr>\n",
       "      <th>1</th>\n",
       "      <td>0.693760</td>\n",
       "      <td>1</td>\n",
       "    </tr>\n",
       "    <tr>\n",
       "      <th>2</th>\n",
       "      <td>0.450090</td>\n",
       "      <td>2</td>\n",
       "    </tr>\n",
       "    <tr>\n",
       "      <th>3</th>\n",
       "      <td>0.446477</td>\n",
       "      <td>3</td>\n",
       "    </tr>\n",
       "    <tr>\n",
       "      <th>4</th>\n",
       "      <td>0.479900</td>\n",
       "      <td>4</td>\n",
       "    </tr>\n",
       "  </tbody>\n",
       "</table>\n",
       "</div>"
      ],
      "text/plain": [
       "       Dino  Index\n",
       "0  0.483832      0\n",
       "1  0.693760      1\n",
       "2  0.450090      2\n",
       "3  0.446477      3\n",
       "4  0.479900      4"
      ]
     },
     "execution_count": 24,
     "metadata": {},
     "output_type": "execute_result"
    }
   ],
   "source": [
    "dino_auc['Index'] = dino_auc.index \n",
    "dino_auc.head()"
   ]
  },
  {
   "cell_type": "code",
   "execution_count": 25,
   "metadata": {},
   "outputs": [
    {
     "name": "stdout",
     "output_type": "stream",
     "text": [
      "209\n"
     ]
    }
   ],
   "source": [
    "print(len(dino_auc))"
   ]
  },
  {
   "cell_type": "code",
   "execution_count": 26,
   "metadata": {},
   "outputs": [
    {
     "data": {
      "text/html": [
       "<div>\n",
       "<style scoped>\n",
       "    .dataframe tbody tr th:only-of-type {\n",
       "        vertical-align: middle;\n",
       "    }\n",
       "\n",
       "    .dataframe tbody tr th {\n",
       "        vertical-align: top;\n",
       "    }\n",
       "\n",
       "    .dataframe thead th {\n",
       "        text-align: right;\n",
       "    }\n",
       "</style>\n",
       "<table border=\"1\" class=\"dataframe\">\n",
       "  <thead>\n",
       "    <tr style=\"text-align: right;\">\n",
       "      <th></th>\n",
       "      <th>ASSAY_ID</th>\n",
       "      <th>CHEMBL_ID</th>\n",
       "      <th>Index</th>\n",
       "      <th>ResNet</th>\n",
       "      <th>DenseNet</th>\n",
       "      <th>GapNet</th>\n",
       "      <th>M-CNN</th>\n",
       "      <th>MIL-Net</th>\n",
       "      <th>SC-CNN</th>\n",
       "      <th>FNN</th>\n",
       "      <th>Dino</th>\n",
       "    </tr>\n",
       "  </thead>\n",
       "  <tbody>\n",
       "    <tr>\n",
       "      <th>0</th>\n",
       "      <td>600885</td>\n",
       "      <td>CHEMBL1040691</td>\n",
       "      <td>0</td>\n",
       "      <td>0.382073</td>\n",
       "      <td>0.353741</td>\n",
       "      <td>0.400147</td>\n",
       "      <td>0.343896</td>\n",
       "      <td>0.335975</td>\n",
       "      <td>0.390464</td>\n",
       "      <td>0.545872</td>\n",
       "      <td>0.483832</td>\n",
       "    </tr>\n",
       "    <tr>\n",
       "      <th>1</th>\n",
       "      <td>600885</td>\n",
       "      <td>CHEMBL1040691</td>\n",
       "      <td>0</td>\n",
       "      <td>0.468936</td>\n",
       "      <td>0.509693</td>\n",
       "      <td>0.391711</td>\n",
       "      <td>0.409029</td>\n",
       "      <td>0.487797</td>\n",
       "      <td>0.474054</td>\n",
       "      <td>0.578887</td>\n",
       "      <td>0.483832</td>\n",
       "    </tr>\n",
       "    <tr>\n",
       "      <th>2</th>\n",
       "      <td>600885</td>\n",
       "      <td>CHEMBL1040691</td>\n",
       "      <td>22</td>\n",
       "      <td>0.382073</td>\n",
       "      <td>0.353741</td>\n",
       "      <td>0.400147</td>\n",
       "      <td>0.343896</td>\n",
       "      <td>0.335975</td>\n",
       "      <td>0.390464</td>\n",
       "      <td>0.545872</td>\n",
       "      <td>0.399037</td>\n",
       "    </tr>\n",
       "    <tr>\n",
       "      <th>3</th>\n",
       "      <td>600885</td>\n",
       "      <td>CHEMBL1040691</td>\n",
       "      <td>22</td>\n",
       "      <td>0.468936</td>\n",
       "      <td>0.509693</td>\n",
       "      <td>0.391711</td>\n",
       "      <td>0.409029</td>\n",
       "      <td>0.487797</td>\n",
       "      <td>0.474054</td>\n",
       "      <td>0.578887</td>\n",
       "      <td>0.399037</td>\n",
       "    </tr>\n",
       "    <tr>\n",
       "      <th>4</th>\n",
       "      <td>600886</td>\n",
       "      <td>CHEMBL1040692</td>\n",
       "      <td>23</td>\n",
       "      <td>0.590332</td>\n",
       "      <td>0.599425</td>\n",
       "      <td>0.585017</td>\n",
       "      <td>0.567313</td>\n",
       "      <td>0.524417</td>\n",
       "      <td>0.488813</td>\n",
       "      <td>0.596216</td>\n",
       "      <td>0.591972</td>\n",
       "    </tr>\n",
       "  </tbody>\n",
       "</table>\n",
       "</div>"
      ],
      "text/plain": [
       "   ASSAY_ID      CHEMBL_ID  Index    ResNet  DenseNet    GapNet     M-CNN  \\\n",
       "0    600885  CHEMBL1040691      0  0.382073  0.353741  0.400147  0.343896   \n",
       "1    600885  CHEMBL1040691      0  0.468936  0.509693  0.391711  0.409029   \n",
       "2    600885  CHEMBL1040691     22  0.382073  0.353741  0.400147  0.343896   \n",
       "3    600885  CHEMBL1040691     22  0.468936  0.509693  0.391711  0.409029   \n",
       "4    600886  CHEMBL1040692     23  0.590332  0.599425  0.585017  0.567313   \n",
       "\n",
       "    MIL-Net    SC-CNN       FNN      Dino  \n",
       "0  0.335975  0.390464  0.545872  0.483832  \n",
       "1  0.487797  0.474054  0.578887  0.483832  \n",
       "2  0.335975  0.390464  0.545872  0.399037  \n",
       "3  0.487797  0.474054  0.578887  0.399037  \n",
       "4  0.524417  0.488813  0.596216  0.591972  "
      ]
     },
     "execution_count": 26,
     "metadata": {},
     "output_type": "execute_result"
    }
   ],
   "source": [
    "AUCs = pd.merge(final_df, dino_auc, on='Index')\n",
    "AUCs.head()"
   ]
  },
  {
   "cell_type": "code",
   "execution_count": 27,
   "metadata": {},
   "outputs": [],
   "source": [
    "AUCs= AUCs.drop(['CHEMBL_ID','ASSAY_ID'], axis = 1)\n",
    "AUCs= AUCs.groupby(['Index']).mean()"
   ]
  },
  {
   "cell_type": "code",
   "execution_count": 28,
   "metadata": {},
   "outputs": [
    {
     "data": {
      "text/html": [
       "<div>\n",
       "<style scoped>\n",
       "    .dataframe tbody tr th:only-of-type {\n",
       "        vertical-align: middle;\n",
       "    }\n",
       "\n",
       "    .dataframe tbody tr th {\n",
       "        vertical-align: top;\n",
       "    }\n",
       "\n",
       "    .dataframe thead th {\n",
       "        text-align: right;\n",
       "    }\n",
       "</style>\n",
       "<table border=\"1\" class=\"dataframe\">\n",
       "  <thead>\n",
       "    <tr style=\"text-align: right;\">\n",
       "      <th></th>\n",
       "      <th>ResNet</th>\n",
       "      <th>DenseNet</th>\n",
       "      <th>GapNet</th>\n",
       "      <th>M-CNN</th>\n",
       "      <th>MIL-Net</th>\n",
       "      <th>SC-CNN</th>\n",
       "      <th>FNN</th>\n",
       "      <th>Dino</th>\n",
       "    </tr>\n",
       "    <tr>\n",
       "      <th>Index</th>\n",
       "      <th></th>\n",
       "      <th></th>\n",
       "      <th></th>\n",
       "      <th></th>\n",
       "      <th></th>\n",
       "      <th></th>\n",
       "      <th></th>\n",
       "      <th></th>\n",
       "    </tr>\n",
       "  </thead>\n",
       "  <tbody>\n",
       "    <tr>\n",
       "      <th>0</th>\n",
       "      <td>0.425504</td>\n",
       "      <td>0.431717</td>\n",
       "      <td>0.395929</td>\n",
       "      <td>0.376462</td>\n",
       "      <td>0.411886</td>\n",
       "      <td>0.432259</td>\n",
       "      <td>0.562379</td>\n",
       "      <td>0.483832</td>\n",
       "    </tr>\n",
       "    <tr>\n",
       "      <th>1</th>\n",
       "      <td>0.727567</td>\n",
       "      <td>0.685308</td>\n",
       "      <td>0.726101</td>\n",
       "      <td>0.694630</td>\n",
       "      <td>0.666689</td>\n",
       "      <td>0.620819</td>\n",
       "      <td>0.477339</td>\n",
       "      <td>0.693760</td>\n",
       "    </tr>\n",
       "    <tr>\n",
       "      <th>2</th>\n",
       "      <td>0.544170</td>\n",
       "      <td>0.534179</td>\n",
       "      <td>0.511029</td>\n",
       "      <td>0.546714</td>\n",
       "      <td>0.508282</td>\n",
       "      <td>0.564776</td>\n",
       "      <td>0.402460</td>\n",
       "      <td>0.450090</td>\n",
       "    </tr>\n",
       "    <tr>\n",
       "      <th>3</th>\n",
       "      <td>0.492456</td>\n",
       "      <td>0.465515</td>\n",
       "      <td>0.448211</td>\n",
       "      <td>0.461176</td>\n",
       "      <td>0.503378</td>\n",
       "      <td>0.401288</td>\n",
       "      <td>0.511324</td>\n",
       "      <td>0.446477</td>\n",
       "    </tr>\n",
       "    <tr>\n",
       "      <th>4</th>\n",
       "      <td>0.435541</td>\n",
       "      <td>0.496423</td>\n",
       "      <td>0.433868</td>\n",
       "      <td>0.479750</td>\n",
       "      <td>0.552495</td>\n",
       "      <td>0.490792</td>\n",
       "      <td>0.578471</td>\n",
       "      <td>0.479900</td>\n",
       "    </tr>\n",
       "  </tbody>\n",
       "</table>\n",
       "</div>"
      ],
      "text/plain": [
       "         ResNet  DenseNet    GapNet     M-CNN   MIL-Net    SC-CNN       FNN  \\\n",
       "Index                                                                         \n",
       "0      0.425504  0.431717  0.395929  0.376462  0.411886  0.432259  0.562379   \n",
       "1      0.727567  0.685308  0.726101  0.694630  0.666689  0.620819  0.477339   \n",
       "2      0.544170  0.534179  0.511029  0.546714  0.508282  0.564776  0.402460   \n",
       "3      0.492456  0.465515  0.448211  0.461176  0.503378  0.401288  0.511324   \n",
       "4      0.435541  0.496423  0.433868  0.479750  0.552495  0.490792  0.578471   \n",
       "\n",
       "           Dino  \n",
       "Index            \n",
       "0      0.483832  \n",
       "1      0.693760  \n",
       "2      0.450090  \n",
       "3      0.446477  \n",
       "4      0.479900  "
      ]
     },
     "execution_count": 28,
     "metadata": {},
     "output_type": "execute_result"
    }
   ],
   "source": [
    "AUCs.head()"
   ]
  },
  {
   "cell_type": "code",
   "execution_count": 29,
   "metadata": {},
   "outputs": [
    {
     "name": "stdout",
     "output_type": "stream",
     "text": [
      "209\n"
     ]
    }
   ],
   "source": [
    "print(len(AUCs))"
   ]
  },
  {
   "cell_type": "code",
   "execution_count": 30,
   "metadata": {},
   "outputs": [],
   "source": [
    "AUCs.to_csv('/SSL_data/supervisedCNNs/Bray_bioactives/AUCs.csv') "
   ]
  },
  {
   "cell_type": "code",
   "execution_count": 31,
   "metadata": {},
   "outputs": [
    {
     "name": "stdout",
     "output_type": "stream",
     "text": [
      "(10574, 209)\n"
     ]
    }
   ],
   "source": [
    "from scipy.io import mmread\n",
    "the_matrix = mmread(\"/SSL_data/supervisedCNNs/Bray_bioactives/ChEMBL/Label_Matrix_Hofmarcher/label-matrix.mtx\")\n",
    "print(the_matrix.shape)"
   ]
  },
  {
   "cell_type": "code",
   "execution_count": 32,
   "metadata": {},
   "outputs": [
    {
     "name": "stdout",
     "output_type": "stream",
     "text": [
      "(10574, 209)\n"
     ]
    }
   ],
   "source": [
    "labels = the_matrix.toarray()\n",
    "print(labels.shape)"
   ]
  },
  {
   "cell_type": "code",
   "execution_count": 33,
   "metadata": {},
   "outputs": [
    {
     "name": "stdout",
     "output_type": "stream",
     "text": [
      "(209,)\n"
     ]
    }
   ],
   "source": [
    "label_count= np.count_nonzero(labels, axis=0)\n",
    "print(label_count.shape)"
   ]
  },
  {
   "cell_type": "code",
   "execution_count": 34,
   "metadata": {},
   "outputs": [
    {
     "name": "stdout",
     "output_type": "stream",
     "text": [
      "[ 122  102  112   79   61   98   44   45  120   99  196  210   73   41\n",
      "   80   54  100  115   52  145   79   56  122  131  102   98  210  145\n",
      "  102   98  832  799  768  840  779  155  160   66   28   53  140  139\n",
      "  391  365   44   39   88   38   78   73   83  135  172  177  173  170\n",
      "  165  164  142  174  172  165  172  158  171  177  171  144  179  175\n",
      "  174   60  139  160  170  177  164  175  173   57  169  172  168  169\n",
      "  121  172  177  156  170  179  177  175  173  144  143   62   46  166\n",
      "  139  169  169  169  142  180  176  135  173  173  176   61  168  173\n",
      "  175  151  175   24   57   36   66   24   38   38   24   66   45   45\n",
      "   97   22   53   53   52   40   40   34   22   34   36   32   36   36\n",
      "   34   48   34   34   34   34  815   70   33  159   90   76   37  352\n",
      " 1776  125  943  458  326   54 2790 1937 1915  256  720  115  127 1808\n",
      "  133   77 2666  386   64  108   38  716  381  531  349  615   43  780\n",
      "  358  855   91  381 1752   27  230   42 2168 1783  399  199   43  107\n",
      "   89 1042  183   27  427  123  785  157  305   67   36   78 1554]\n"
     ]
    }
   ],
   "source": [
    "print(label_count)"
   ]
  },
  {
   "cell_type": "code",
   "execution_count": 35,
   "metadata": {},
   "outputs": [
    {
     "data": {
      "text/html": [
       "<div>\n",
       "<style scoped>\n",
       "    .dataframe tbody tr th:only-of-type {\n",
       "        vertical-align: middle;\n",
       "    }\n",
       "\n",
       "    .dataframe tbody tr th {\n",
       "        vertical-align: top;\n",
       "    }\n",
       "\n",
       "    .dataframe thead th {\n",
       "        text-align: right;\n",
       "    }\n",
       "</style>\n",
       "<table border=\"1\" class=\"dataframe\">\n",
       "  <thead>\n",
       "    <tr style=\"text-align: right;\">\n",
       "      <th></th>\n",
       "      <th>label_counts</th>\n",
       "      <th>Index</th>\n",
       "    </tr>\n",
       "  </thead>\n",
       "  <tbody>\n",
       "    <tr>\n",
       "      <th>0</th>\n",
       "      <td>122</td>\n",
       "      <td>0</td>\n",
       "    </tr>\n",
       "    <tr>\n",
       "      <th>1</th>\n",
       "      <td>102</td>\n",
       "      <td>1</td>\n",
       "    </tr>\n",
       "    <tr>\n",
       "      <th>2</th>\n",
       "      <td>112</td>\n",
       "      <td>2</td>\n",
       "    </tr>\n",
       "    <tr>\n",
       "      <th>3</th>\n",
       "      <td>79</td>\n",
       "      <td>3</td>\n",
       "    </tr>\n",
       "    <tr>\n",
       "      <th>4</th>\n",
       "      <td>61</td>\n",
       "      <td>4</td>\n",
       "    </tr>\n",
       "  </tbody>\n",
       "</table>\n",
       "</div>"
      ],
      "text/plain": [
       "   label_counts  Index\n",
       "0           122      0\n",
       "1           102      1\n",
       "2           112      2\n",
       "3            79      3\n",
       "4            61      4"
      ]
     },
     "execution_count": 35,
     "metadata": {},
     "output_type": "execute_result"
    }
   ],
   "source": [
    "df_label_count = pd.DataFrame(label_count, columns=['label_counts'])\n",
    "df_label_count['Index'] = df_label_count.index \n",
    "df_label_count.head()"
   ]
  },
  {
   "cell_type": "code",
   "execution_count": 36,
   "metadata": {},
   "outputs": [
    {
     "data": {
      "text/html": [
       "<div>\n",
       "<style scoped>\n",
       "    .dataframe tbody tr th:only-of-type {\n",
       "        vertical-align: middle;\n",
       "    }\n",
       "\n",
       "    .dataframe tbody tr th {\n",
       "        vertical-align: top;\n",
       "    }\n",
       "\n",
       "    .dataframe thead th {\n",
       "        text-align: right;\n",
       "    }\n",
       "</style>\n",
       "<table border=\"1\" class=\"dataframe\">\n",
       "  <thead>\n",
       "    <tr style=\"text-align: right;\">\n",
       "      <th></th>\n",
       "      <th>Index</th>\n",
       "      <th>ResNet</th>\n",
       "      <th>DenseNet</th>\n",
       "      <th>GapNet</th>\n",
       "      <th>M-CNN</th>\n",
       "      <th>MIL-Net</th>\n",
       "      <th>SC-CNN</th>\n",
       "      <th>FNN</th>\n",
       "      <th>Dino</th>\n",
       "      <th>label_counts</th>\n",
       "    </tr>\n",
       "  </thead>\n",
       "  <tbody>\n",
       "    <tr>\n",
       "      <th>0</th>\n",
       "      <td>0</td>\n",
       "      <td>0.425504</td>\n",
       "      <td>0.431717</td>\n",
       "      <td>0.395929</td>\n",
       "      <td>0.376462</td>\n",
       "      <td>0.411886</td>\n",
       "      <td>0.432259</td>\n",
       "      <td>0.562379</td>\n",
       "      <td>0.483832</td>\n",
       "      <td>122</td>\n",
       "    </tr>\n",
       "    <tr>\n",
       "      <th>1</th>\n",
       "      <td>1</td>\n",
       "      <td>0.727567</td>\n",
       "      <td>0.685308</td>\n",
       "      <td>0.726101</td>\n",
       "      <td>0.694630</td>\n",
       "      <td>0.666689</td>\n",
       "      <td>0.620819</td>\n",
       "      <td>0.477339</td>\n",
       "      <td>0.693760</td>\n",
       "      <td>102</td>\n",
       "    </tr>\n",
       "    <tr>\n",
       "      <th>2</th>\n",
       "      <td>2</td>\n",
       "      <td>0.544170</td>\n",
       "      <td>0.534179</td>\n",
       "      <td>0.511029</td>\n",
       "      <td>0.546714</td>\n",
       "      <td>0.508282</td>\n",
       "      <td>0.564776</td>\n",
       "      <td>0.402460</td>\n",
       "      <td>0.450090</td>\n",
       "      <td>112</td>\n",
       "    </tr>\n",
       "    <tr>\n",
       "      <th>3</th>\n",
       "      <td>3</td>\n",
       "      <td>0.492456</td>\n",
       "      <td>0.465515</td>\n",
       "      <td>0.448211</td>\n",
       "      <td>0.461176</td>\n",
       "      <td>0.503378</td>\n",
       "      <td>0.401288</td>\n",
       "      <td>0.511324</td>\n",
       "      <td>0.446477</td>\n",
       "      <td>79</td>\n",
       "    </tr>\n",
       "    <tr>\n",
       "      <th>4</th>\n",
       "      <td>4</td>\n",
       "      <td>0.435541</td>\n",
       "      <td>0.496423</td>\n",
       "      <td>0.433868</td>\n",
       "      <td>0.479750</td>\n",
       "      <td>0.552495</td>\n",
       "      <td>0.490792</td>\n",
       "      <td>0.578471</td>\n",
       "      <td>0.479900</td>\n",
       "      <td>61</td>\n",
       "    </tr>\n",
       "  </tbody>\n",
       "</table>\n",
       "</div>"
      ],
      "text/plain": [
       "   Index    ResNet  DenseNet    GapNet     M-CNN   MIL-Net    SC-CNN  \\\n",
       "0      0  0.425504  0.431717  0.395929  0.376462  0.411886  0.432259   \n",
       "1      1  0.727567  0.685308  0.726101  0.694630  0.666689  0.620819   \n",
       "2      2  0.544170  0.534179  0.511029  0.546714  0.508282  0.564776   \n",
       "3      3  0.492456  0.465515  0.448211  0.461176  0.503378  0.401288   \n",
       "4      4  0.435541  0.496423  0.433868  0.479750  0.552495  0.490792   \n",
       "\n",
       "        FNN      Dino  label_counts  \n",
       "0  0.562379  0.483832           122  \n",
       "1  0.477339  0.693760           102  \n",
       "2  0.402460  0.450090           112  \n",
       "3  0.511324  0.446477            79  \n",
       "4  0.578471  0.479900            61  "
      ]
     },
     "execution_count": 36,
     "metadata": {},
     "output_type": "execute_result"
    }
   ],
   "source": [
    "AUCs_label_count = pd.merge(AUCs, df_label_count, on='Index')\n",
    "AUCs_label_count.head()"
   ]
  },
  {
   "cell_type": "code",
   "execution_count": 37,
   "metadata": {},
   "outputs": [
    {
     "name": "stdout",
     "output_type": "stream",
     "text": [
      "209\n"
     ]
    }
   ],
   "source": [
    "print(len(AUCs_label_count))"
   ]
  },
  {
   "cell_type": "code",
   "execution_count": 38,
   "metadata": {},
   "outputs": [],
   "source": [
    "AUCs_label_count.to_csv('/SSL_data/supervisedCNNs/Bray_bioactives/AUCs_label_count.csv') "
   ]
  },
  {
   "cell_type": "code",
   "execution_count": 41,
   "metadata": {},
   "outputs": [
    {
     "name": "stdout",
     "output_type": "stream",
     "text": [
      "0.7233368665452437\n"
     ]
    }
   ],
   "source": [
    "print(AUCs_label_count['Dino'].mean())"
   ]
  },
  {
   "cell_type": "code",
   "execution_count": 42,
   "metadata": {},
   "outputs": [
    {
     "name": "stdout",
     "output_type": "stream",
     "text": [
      "0.18188008328365304\n"
     ]
    }
   ],
   "source": [
    "print(AUCs_label_count['Dino'].std())"
   ]
  },
  {
   "cell_type": "code",
   "execution_count": 43,
   "metadata": {},
   "outputs": [
    {
     "data": {
      "text/html": [
       "<div>\n",
       "<style scoped>\n",
       "    .dataframe tbody tr th:only-of-type {\n",
       "        vertical-align: middle;\n",
       "    }\n",
       "\n",
       "    .dataframe tbody tr th {\n",
       "        vertical-align: top;\n",
       "    }\n",
       "\n",
       "    .dataframe thead th {\n",
       "        text-align: right;\n",
       "    }\n",
       "</style>\n",
       "<table border=\"1\" class=\"dataframe\">\n",
       "  <thead>\n",
       "    <tr style=\"text-align: right;\">\n",
       "      <th></th>\n",
       "      <th>Dino_F1</th>\n",
       "    </tr>\n",
       "  </thead>\n",
       "  <tbody>\n",
       "    <tr>\n",
       "      <th>0</th>\n",
       "      <td>0.877755</td>\n",
       "    </tr>\n",
       "    <tr>\n",
       "      <th>1</th>\n",
       "      <td>0.040553</td>\n",
       "    </tr>\n",
       "    <tr>\n",
       "      <th>2</th>\n",
       "      <td>0.000000</td>\n",
       "    </tr>\n",
       "    <tr>\n",
       "      <th>3</th>\n",
       "      <td>0.016260</td>\n",
       "    </tr>\n",
       "    <tr>\n",
       "      <th>4</th>\n",
       "      <td>0.450978</td>\n",
       "    </tr>\n",
       "  </tbody>\n",
       "</table>\n",
       "</div>"
      ],
      "text/plain": [
       "    Dino_F1\n",
       "0  0.877755\n",
       "1  0.040553\n",
       "2  0.000000\n",
       "3  0.016260\n",
       "4  0.450978"
      ]
     },
     "execution_count": 43,
     "metadata": {},
     "output_type": "execute_result"
    }
   ],
   "source": [
    "dino_F1 = pd.read_csv (r'/SSL_data/supervisedCNNs/Bray_bioactives/Dino_F1.txt')\n",
    "dino_F1.head()"
   ]
  },
  {
   "cell_type": "code",
   "execution_count": 44,
   "metadata": {},
   "outputs": [
    {
     "name": "stdout",
     "output_type": "stream",
     "text": [
      "0.5069996716533486\n"
     ]
    }
   ],
   "source": [
    "print(dino_F1['Dino_F1'].mean())"
   ]
  },
  {
   "cell_type": "code",
   "execution_count": 45,
   "metadata": {},
   "outputs": [
    {
     "name": "stdout",
     "output_type": "stream",
     "text": [
      "0.30618311988694297\n"
     ]
    }
   ],
   "source": [
    "print(dino_F1['Dino_F1'].std())"
   ]
  }
 ],
 "metadata": {
  "kernelspec": {
   "display_name": "cpenv",
   "language": "python",
   "name": "python3"
  },
  "language_info": {
   "codemirror_mode": {
    "name": "ipython",
    "version": 3
   },
   "file_extension": ".py",
   "mimetype": "text/x-python",
   "name": "python",
   "nbconvert_exporter": "python",
   "pygments_lexer": "ipython3",
   "version": "3.9.18"
  }
 },
 "nbformat": 4,
 "nbformat_minor": 2
}
