{
 "cells": [
  {
   "cell_type": "markdown",
   "metadata": {},
   "source": [
    "# CellProfiler features for the supervised baseline experiment"
   ]
  },
  {
   "cell_type": "code",
   "execution_count": 1,
   "metadata": {},
   "outputs": [],
   "source": [
    "import os\n",
    "import pandas as pd\n",
    "import numpy as np"
   ]
  },
  {
   "cell_type": "markdown",
   "metadata": {},
   "source": [
    "Function for extracting metadata and CellProfiler feature column indices:"
   ]
  },
  {
   "cell_type": "code",
   "execution_count": 2,
   "metadata": {},
   "outputs": [],
   "source": [
    "def get_feature_cols(df: pd.DataFrame, \n",
    "                     features_type: str=\"cellprofiler\") -> list() :\n",
    "    \"\"\"Splits columns of input dataframe into columns contining metadata and columns containing morphological profile features\n",
    "    :param df: input data frame\n",
    "    :param features_type:\n",
    "        \"standard\" for features named as feature_1, feature_2 ..\n",
    "        \"CellProfiler\": for cell-centric Cell Profiler features names as Cells_ , Nuclei_ , Cytoplasm_\n",
    "    :return : feature_columns , info_columns\n",
    "    \"\"\"\n",
    "    if features_type.lower() ==\"cellprofiler\":\n",
    "        feature_cols = [ c for c in df.columns if ( c.startswith(\"Cells_\") | c.startswith(\"Nuclei_\") | c.startswith(\"Cytoplasm_\" )) & (\"Metadata\" not in c) ]\n",
    "    elif features_type==\"standard\":\n",
    "        feature_cols = [ c for c in df.columns if ( c.startswith(\"feature_\") | c.startswith('emb') ) ]\n",
    "    else:\n",
    "        raise NotImplementedError(\"Feature Type not implemented. Options: CellProfiler, standard\")\n",
    "    info_cols =  list( set(df.columns).difference(set(feature_cols)) )\n",
    "    return feature_cols, info_cols"
   ]
  },
  {
   "cell_type": "code",
   "execution_count": 3,
   "metadata": {},
   "outputs": [],
   "source": [
    "def get_feature_cols_with_key(df: pd.DataFrame, \n",
    "                     features_type: str=\"cellprofiler\") -> list() :\n",
    "    \"\"\"Splits columns of input dataframe into columns contining metadata and columns containing morphological profile features\n",
    "    :param df: input data frame\n",
    "    :param features_type:\n",
    "        \"standard\" for features named as feature_1, feature_2 ..\n",
    "        \"CellProfiler\": for cell-centric Cell Profiler features names as Cells_ , Nuclei_ , Cytoplasm_\n",
    "    :return : feature_columns , info_columns\n",
    "    \"\"\"\n",
    "    if features_type.lower() ==\"cellprofiler\":\n",
    "        feature_cols = [ c for c in df.columns if ( c.startswith(\"Cells_\") | c.startswith(\"Nuclei_\") | c.startswith(\"Cytoplasm_\" )| c.startswith(\"INCHIKEY\" )) & (\"Metadata\" not in c) ]\n",
    "    elif features_type==\"standard\":\n",
    "        feature_cols = [ c for c in df.columns if ( c.startswith(\"feature_\") | c.startswith('emb') ) ]\n",
    "    else:\n",
    "        raise NotImplementedError(\"Feature Type not implemented. Options: CellProfiler, standard\")\n",
    "    info_cols =  list( set(df.columns).difference(set(feature_cols)) )\n",
    "    return feature_cols, info_cols"
   ]
  },
  {
   "cell_type": "markdown",
   "metadata": {},
   "source": [
    "Function for impute Nan values"
   ]
  },
  {
   "cell_type": "code",
   "execution_count": 4,
   "metadata": {},
   "outputs": [],
   "source": [
    "def impute_features( data, feature_cols, outlier_threshold=1000):\n",
    "    \n",
    "    for feat in feature_cols:\n",
    "        impute_idx = data[feat].isin([np.inf, -np.inf, np.nan])\n",
    "        if impute_idx.sum()>0:\n",
    "            print('Nan or inf feature %s for %i samples'%(feat, impute_idx.sum()))\n",
    "        if outlier_threshold:\n",
    "            impute_idx = impute_idx | (data[feat].abs()>outlier_threshold)\n",
    "        if impute_idx.sum()>0:\n",
    "            data.loc[ impute_idx, feat] = data.loc[ impute_idx==False, feat].median()\n",
    "            print('Imputing to median %s for %i samples'%(feat, impute_idx.sum()))\n",
    "    return data"
   ]
  },
  {
   "cell_type": "markdown",
   "metadata": {},
   "source": [
    "Load CellProfiler features:"
   ]
  },
  {
   "cell_type": "code",
   "execution_count": 5,
   "metadata": {},
   "outputs": [
    {
     "name": "stderr",
     "output_type": "stream",
     "text": [
      "/wuppertal/gpcsx/projects/supervised_baseline/ipykernel_1319577/432750063.py:1: DtypeWarning: Columns (7,13,16) have mixed types. Specify dtype option on import or set low_memory=False.\n",
      "  cellprof_df = pd.read_csv('/raid/cache/HCA_data_lake/Bray_bioactives/embeddings/CellProfiler/well_features.csv')\n"
     ]
    }
   ],
   "source": [
    "cellprof_df = pd.read_csv('/SSL_data/supervisedCNNs/Bray_bioactives/embeddings/CellProfiler/well_features.csv')"
   ]
  },
  {
   "cell_type": "code",
   "execution_count": 6,
   "metadata": {},
   "outputs": [
    {
     "data": {
      "text/plain": [
       "(47139, 821)"
      ]
     },
     "execution_count": 6,
     "metadata": {},
     "output_type": "execute_result"
    }
   ],
   "source": [
    "cellprof_df.shape"
   ]
  },
  {
   "cell_type": "code",
   "execution_count": 7,
   "metadata": {},
   "outputs": [
    {
     "data": {
      "text/plain": [
       "192274"
      ]
     },
     "execution_count": 7,
     "metadata": {},
     "output_type": "execute_result"
    }
   ],
   "source": [
    "cellprof_df.isnull().values.any()\n",
    "cellprof_df.isnull().sum().sum()"
   ]
  },
  {
   "cell_type": "code",
   "execution_count": 8,
   "metadata": {},
   "outputs": [],
   "source": [
    "feature_cols, meta_cols = get_feature_cols(cellprof_df)"
   ]
  },
  {
   "cell_type": "code",
   "execution_count": 9,
   "metadata": {},
   "outputs": [
    {
     "name": "stdout",
     "output_type": "stream",
     "text": [
      "Nan or inf feature Cells_AreaShape_FormFactor for 3 samples\n",
      "Imputing to median Cells_AreaShape_FormFactor for 3 samples\n",
      "Nan or inf feature Cells_Correlation_Manders_AGP_ER for 145 samples\n",
      "Imputing to median Cells_Correlation_Manders_AGP_ER for 145 samples\n",
      "Nan or inf feature Cells_Correlation_Manders_DNA_AGP for 1024 samples\n",
      "Imputing to median Cells_Correlation_Manders_DNA_AGP for 1030 samples\n",
      "Nan or inf feature Cells_Correlation_Manders_DNA_ER for 145 samples\n",
      "Imputing to median Cells_Correlation_Manders_DNA_ER for 145 samples\n",
      "Imputing to median Cells_Correlation_Manders_ER_AGP for 3 samples\n",
      "Nan or inf feature Cells_Correlation_Manders_ER_DNA for 26 samples\n",
      "Imputing to median Cells_Correlation_Manders_ER_DNA for 26 samples\n",
      "Nan or inf feature Cells_Correlation_Manders_RNA_ER for 137 samples\n",
      "Imputing to median Cells_Correlation_Manders_RNA_ER for 137 samples\n",
      "Nan or inf feature Cells_Neighbors_AngleBetweenNeighbors_Adjacent for 4 samples\n",
      "Imputing to median Cells_Neighbors_AngleBetweenNeighbors_Adjacent for 4 samples\n",
      "Nan or inf feature Cells_Neighbors_FirstClosestDistance_5 for 3 samples\n",
      "Imputing to median Cells_Neighbors_FirstClosestDistance_5 for 3 samples\n",
      "Nan or inf feature Cytoplasm_Correlation_Manders_Mito_ER for 148 samples\n",
      "Imputing to median Cytoplasm_Correlation_Manders_Mito_ER for 148 samples\n",
      "Imputing to median Cytoplasm_Correlation_Manders_RNA_AGP for 5 samples\n",
      "Nan or inf feature Cytoplasm_RadialDistribution_RadialCV_mito_tubeness_12of20 for 22 samples\n",
      "Imputing to median Cytoplasm_RadialDistribution_RadialCV_mito_tubeness_12of20 for 22 samples\n",
      "Nan or inf feature Cytoplasm_Texture_DifferenceVariance_DNA_5_03_256 for 296 samples\n",
      "Imputing to median Cytoplasm_Texture_DifferenceVariance_DNA_5_03_256 for 297 samples\n",
      "Imputing to median Cytoplasm_Texture_SumAverage_RNA_3_00_256 for 1 samples\n",
      "Nan or inf feature Nuclei_Neighbors_AngleBetweenNeighbors_1 for 12 samples\n",
      "Imputing to median Nuclei_Neighbors_AngleBetweenNeighbors_1 for 12 samples\n",
      "Nan or inf feature Nuclei_Neighbors_SecondClosestDistance_1 for 12 samples\n",
      "Imputing to median Nuclei_Neighbors_SecondClosestDistance_1 for 12 samples\n",
      "Imputing to median Nuclei_ObjectSkeleton_NumberBranchEnds_mito_skel for 1 samples\n",
      "Imputing to median Nuclei_ObjectSkeleton_NumberNonTrunkBranches_mito_skel for 35 samples\n"
     ]
    }
   ],
   "source": [
    "data_impute_df = impute_features( cellprof_df.copy(), feature_cols)"
   ]
  },
  {
   "cell_type": "code",
   "execution_count": 10,
   "metadata": {},
   "outputs": [
    {
     "data": {
      "text/plain": [
       "<bound method NDFrame.head of                           INCHIKEY  Plate Well            broad_sample  \\\n",
       "0      RIHXBZGHHXCGPP-MZKRTTBSSA-N  26795  A10  BRD-K53839527-001-01-4   \n",
       "1      RIHXBZGHHXCGPP-MZKRTTBSSA-N  26679  A10  BRD-K53839527-001-01-4   \n",
       "2      RIHXBZGHHXCGPP-MZKRTTBSSA-N  26680  A10  BRD-K53839527-001-01-4   \n",
       "3      RIHXBZGHHXCGPP-MZKRTTBSSA-N  26794  A10  BRD-K53839527-001-01-4   \n",
       "4      RIHXBZGHHXCGPP-SXWKCWPCSA-N  26795  A12  BRD-K71719006-001-01-6   \n",
       "...                            ...    ...  ...                     ...   \n",
       "47134  GTYKJOKWQTUGAM-FVBCXUTKSA-N  25862  M07  BRD-K79908599-001-01-0   \n",
       "47135  GTYKJOKWQTUGAM-FOUYOVOOSA-N  25885  M11  BRD-K45134469-001-01-1   \n",
       "47136  GTYKJOKWQTUGAM-FOUYOVOOSA-N  25858  M11  BRD-K45134469-001-01-1   \n",
       "47137  GTYKJOKWQTUGAM-FOUYOVOOSA-N  25859  M11  BRD-K45134469-001-01-1   \n",
       "47138  GTYKJOKWQTUGAM-FOUYOVOOSA-N  25862  M11  BRD-K45134469-001-01-1   \n",
       "\n",
       "      pert_type  Site_Count  Count_Cytoplasm chemist_name  Count_Cells  \\\n",
       "0           trt           6              575          NaN          575   \n",
       "1           trt           6              393          NaN          393   \n",
       "2           trt           6              435          NaN          435   \n",
       "3           trt           6              464          NaN          464   \n",
       "4           trt           6              618          NaN          618   \n",
       "...         ...         ...              ...          ...          ...   \n",
       "47134       trt           6              430          NaN          430   \n",
       "47135       trt           6              459          NaN          459   \n",
       "47136       trt           6              429          NaN          429   \n",
       "47137       trt           6              386          NaN          386   \n",
       "47138       trt           6              444          NaN          444   \n",
       "\n",
       "                              source_name  ...  \\\n",
       "0      Broad Institute of MIT and Harvard  ...   \n",
       "1      Broad Institute of MIT and Harvard  ...   \n",
       "2      Broad Institute of MIT and Harvard  ...   \n",
       "3      Broad Institute of MIT and Harvard  ...   \n",
       "4      Broad Institute of MIT and Harvard  ...   \n",
       "...                                   ...  ...   \n",
       "47134  Broad Institute of MIT and Harvard  ...   \n",
       "47135  Broad Institute of MIT and Harvard  ...   \n",
       "47136  Broad Institute of MIT and Harvard  ...   \n",
       "47137  Broad Institute of MIT and Harvard  ...   \n",
       "47138  Broad Institute of MIT and Harvard  ...   \n",
       "\n",
       "       Nuclei_Texture_InfoMeas2_Mito_3_00_256  \\\n",
       "0                                    0.505150   \n",
       "1                                   -1.505300   \n",
       "2                                   -0.639140   \n",
       "3                                   -1.715500   \n",
       "4                                   -0.052732   \n",
       "...                                       ...   \n",
       "47134                                0.743590   \n",
       "47135                                1.035700   \n",
       "47136                               -1.605700   \n",
       "47137                               -1.417100   \n",
       "47138                               -0.383160   \n",
       "\n",
       "       Nuclei_Texture_InfoMeas2_RNA_3_00_256  \\\n",
       "0                                   -0.20413   \n",
       "1                                   -0.83626   \n",
       "2                                   -0.95470   \n",
       "3                                   -2.57120   \n",
       "4                                   -0.19682   \n",
       "...                                      ...   \n",
       "47134                               -0.59981   \n",
       "47135                                0.10888   \n",
       "47136                               -1.86390   \n",
       "47137                               -1.42820   \n",
       "47138                               -1.02220   \n",
       "\n",
       "      Nuclei_Texture_InverseDifferenceMoment_DNA_10_01_256  \\\n",
       "0                                               -0.45038     \n",
       "1                                                0.62217     \n",
       "2                                                0.67551     \n",
       "3                                                0.73170     \n",
       "4                                               -1.13980     \n",
       "...                                                  ...     \n",
       "47134                                            0.02347     \n",
       "47135                                           -0.50173     \n",
       "47136                                            0.24694     \n",
       "47137                                            0.15546     \n",
       "47138                                           -0.92472     \n",
       "\n",
       "      Nuclei_Texture_InverseDifferenceMoment_ER_3_00_256  \\\n",
       "0                                               0.597330   \n",
       "1                                               0.031846   \n",
       "2                                               0.514890   \n",
       "3                                               1.130000   \n",
       "4                                              -0.526100   \n",
       "...                                                  ...   \n",
       "47134                                          -0.492010   \n",
       "47135                                           1.444300   \n",
       "47136                                           1.978600   \n",
       "47137                                           2.167900   \n",
       "47138                                           0.022949   \n",
       "\n",
       "       Nuclei_Texture_SumEntropy_AGP_10_03_256  \\\n",
       "0                                     0.458110   \n",
       "1                                    -1.331100   \n",
       "2                                    -1.046600   \n",
       "3                                    -1.710400   \n",
       "4                                     1.256200   \n",
       "...                                        ...   \n",
       "47134                                 0.945000   \n",
       "47135                                 0.547510   \n",
       "47136                                -1.215500   \n",
       "47137                                -0.835150   \n",
       "47138                                 0.043686   \n",
       "\n",
       "      Nuclei_Texture_SumEntropy_ER_10_01_256  \\\n",
       "0                                   -0.75985   \n",
       "1                                   -0.60458   \n",
       "2                                   -0.20917   \n",
       "3                                   -1.32530   \n",
       "4                                    0.11280   \n",
       "...                                      ...   \n",
       "47134                               -0.45717   \n",
       "47135                               -2.33930   \n",
       "47136                               -6.10820   \n",
       "47137                               -4.60190   \n",
       "47138                               -3.18250   \n",
       "\n",
       "      Nuclei_Texture_SumEntropy_RNA_10_01_256  \\\n",
       "0                                    0.002555   \n",
       "1                                   -0.740450   \n",
       "2                                   -1.430800   \n",
       "3                                   -3.808400   \n",
       "4                                    0.081764   \n",
       "...                                       ...   \n",
       "47134                               -0.065117   \n",
       "47135                               -0.569000   \n",
       "47136                               -0.861740   \n",
       "47137                               -0.194870   \n",
       "47138                               -1.011700   \n",
       "\n",
       "       Nuclei_Texture_SumVariance_AGP_10_03_256  \\\n",
       "0                                       0.24991   \n",
       "1                                      -1.01280   \n",
       "2                                      -0.35270   \n",
       "3                                      -1.67300   \n",
       "4                                       0.89318   \n",
       "...                                         ...   \n",
       "47134                                   1.07650   \n",
       "47135                                  -0.29044   \n",
       "47136                                  -1.29090   \n",
       "47137                                  -1.31500   \n",
       "47138                                  -0.05399   \n",
       "\n",
       "      Nuclei_Texture_SumVariance_ER_10_03_256  \\\n",
       "0                                   -0.955850   \n",
       "1                                   -0.920550   \n",
       "2                                   -0.743510   \n",
       "3                                   -0.765570   \n",
       "4                                   -0.002788   \n",
       "...                                       ...   \n",
       "47134                               -0.301740   \n",
       "47135                               -1.808400   \n",
       "47136                               -3.097500   \n",
       "47137                               -2.564400   \n",
       "47138                               -1.480900   \n",
       "\n",
       "       Nuclei_Texture_SumVariance_RNA_10_01_256  \n",
       "0                                     -0.216630  \n",
       "1                                     -0.650990  \n",
       "2                                     -0.969100  \n",
       "3                                     -3.021000  \n",
       "4                                     -0.235680  \n",
       "...                                         ...  \n",
       "47134                                  0.042441  \n",
       "47135                                 -1.024900  \n",
       "47136                                 -0.857430  \n",
       "47137                                 -0.766060  \n",
       "47138                                 -0.969430  \n",
       "\n",
       "[47139 rows x 821 columns]>"
      ]
     },
     "execution_count": 10,
     "metadata": {},
     "output_type": "execute_result"
    }
   ],
   "source": [
    "data_impute_df.head"
   ]
  },
  {
   "cell_type": "markdown",
   "metadata": {},
   "source": [
    "Check how the data looks like"
   ]
  },
  {
   "cell_type": "code",
   "execution_count": 11,
   "metadata": {},
   "outputs": [
    {
     "data": {
      "text/plain": [
       "(47139, 821)"
      ]
     },
     "execution_count": 11,
     "metadata": {},
     "output_type": "execute_result"
    }
   ],
   "source": [
    "data_impute_df.shape"
   ]
  },
  {
   "cell_type": "code",
   "execution_count": 12,
   "metadata": {},
   "outputs": [],
   "source": [
    "feature_cols, meta_cols = get_feature_cols_with_key(data_impute_df)"
   ]
  },
  {
   "cell_type": "code",
   "execution_count": 13,
   "metadata": {},
   "outputs": [
    {
     "name": "stdout",
     "output_type": "stream",
     "text": [
      "Number of CellProfiler features: 632\n"
     ]
    }
   ],
   "source": [
    "print(f\"Number of CellProfiler features: {len(feature_cols)}\")"
   ]
  },
  {
   "cell_type": "code",
   "execution_count": 14,
   "metadata": {},
   "outputs": [
    {
     "name": "stdout",
     "output_type": "stream",
     "text": [
      "['INCHIKEY', 'Cells_AreaShape_BoundingBoxArea', 'Cells_AreaShape_BoundingBoxMaximum_X', 'Cells_AreaShape_Compactness', 'Cells_AreaShape_Eccentricity', 'Cells_AreaShape_EulerNumber', 'Cells_AreaShape_Extent', 'Cells_AreaShape_FormFactor', 'Cells_AreaShape_Orientation', 'Cells_AreaShape_Solidity', 'Cells_AreaShape_Zernike_1_1', 'Cells_AreaShape_Zernike_2_0', 'Cells_AreaShape_Zernike_2_2', 'Cells_AreaShape_Zernike_3_1', 'Cells_AreaShape_Zernike_3_3', 'Cells_AreaShape_Zernike_4_0', 'Cells_AreaShape_Zernike_4_2', 'Cells_AreaShape_Zernike_4_4', 'Cells_AreaShape_Zernike_5_1', 'Cells_AreaShape_Zernike_5_3', 'Cells_AreaShape_Zernike_5_5', 'Cells_AreaShape_Zernike_6_0', 'Cells_AreaShape_Zernike_6_2', 'Cells_AreaShape_Zernike_6_6', 'Cells_AreaShape_Zernike_7_1', 'Cells_AreaShape_Zernike_7_3', 'Cells_AreaShape_Zernike_7_7', 'Cells_AreaShape_Zernike_8_0', 'Cells_AreaShape_Zernike_8_2', 'Cells_AreaShape_Zernike_8_4', 'Cells_AreaShape_Zernike_8_8', 'Cells_AreaShape_Zernike_9_1', 'Cells_AreaShape_Zernike_9_3', 'Cells_AreaShape_Zernike_9_5', 'Cells_AreaShape_Zernike_9_9', 'Cells_Correlation_Correlation_AGP_DNA', 'Cells_Correlation_Correlation_DNA_ER', 'Cells_Correlation_Correlation_DNA_RNA', 'Cells_Correlation_Correlation_ER_Mito', 'Cells_Correlation_Correlation_ER_RNA', 'Cells_Correlation_K_AGP_DNA', 'Cells_Correlation_K_DNA_AGP', 'Cells_Correlation_K_DNA_ER', 'Cells_Correlation_K_DNA_RNA', 'Cells_Correlation_K_ER_DNA', 'Cells_Correlation_K_ER_RNA', 'Cells_Correlation_K_RNA_DNA', 'Cells_Correlation_K_RNA_ER', 'Cells_Correlation_Manders_AGP_ER', 'Cells_Correlation_Manders_DNA_AGP', 'Cells_Correlation_Manders_DNA_ER', 'Cells_Correlation_Manders_ER_AGP', 'Cells_Correlation_Manders_ER_DNA', 'Cells_Correlation_Manders_RNA_ER', 'Cells_Correlation_Overlap_DNA_ER', 'Cells_Correlation_Overlap_DNA_Mito', 'Cells_Correlation_Overlap_DNA_RNA', 'Cells_Correlation_Overlap_ER_Mito', 'Cells_Correlation_Overlap_Mito_RNA', 'Cells_Correlation_RWC_AGP_RNA', 'Cells_Correlation_RWC_DNA_AGP', 'Cells_Correlation_RWC_DNA_ER', 'Cells_Correlation_RWC_DNA_RNA', 'Cells_Correlation_RWC_ER_DNA', 'Cells_Correlation_RWC_ER_RNA', 'Cells_Granularity_10_DNA', 'Cells_Granularity_10_ER', 'Cells_Granularity_12_DNA', 'Cells_Granularity_13_DNA', 'Cells_Granularity_16_DNA', 'Cells_Granularity_1_DNA', 'Cells_Granularity_2_AGP', 'Cells_Granularity_2_ER', 'Cells_Granularity_2_RNA', 'Cells_Granularity_3_ER', 'Cells_Granularity_3_Mito', 'Cells_Granularity_4_ER', 'Cells_Granularity_6_DNA', 'Cells_Granularity_7_DNA', 'Cells_Granularity_8_DNA', 'Cells_Granularity_8_ER', 'Cells_Granularity_9_DNA', 'Cells_Granularity_9_ER', 'Cells_Intensity_IntegratedIntensity_AGP', 'Cells_Intensity_IntegratedIntensity_DNA', 'Cells_Intensity_IntegratedIntensity_ER', 'Cells_Intensity_IntegratedIntensity_RNA', 'Cells_Intensity_MassDisplacement_AGP', 'Cells_Intensity_MassDisplacement_DNA', 'Cells_Intensity_MassDisplacement_ER', 'Cells_Intensity_MassDisplacement_RNA', 'Cells_Intensity_MaxIntensityEdge_ER', 'Cells_Intensity_MeanIntensityEdge_RNA', 'Cells_Intensity_MinIntensityEdge_DNA', 'Cells_Intensity_MinIntensityEdge_RNA', 'Cells_Intensity_MinIntensity_ER', 'Cells_Intensity_StdIntensityEdge_DNA', 'Cells_Intensity_StdIntensityEdge_RNA', 'Cells_Intensity_UpperQuartileIntensity_DNA', 'Cells_Neighbors_AngleBetweenNeighbors_Adjacent', 'Cells_Neighbors_FirstClosestDistance_5', 'Cells_Neighbors_FirstClosestObjectNumber_Adjacent', 'Cells_Neighbors_PercentTouching_Adjacent', 'Cells_RadialDistribution_FracAtD_AGP_4of4', 'Cells_RadialDistribution_FracAtD_DNA_2of4', 'Cells_RadialDistribution_FracAtD_DNA_3of4', 'Cells_RadialDistribution_FracAtD_DNA_4of4', 'Cells_RadialDistribution_FracAtD_ER_1of4', 'Cells_RadialDistribution_FracAtD_ER_3of4', 'Cells_RadialDistribution_FracAtD_ER_4of4', 'Cells_RadialDistribution_FracAtD_Mito_3of4', 'Cells_RadialDistribution_FracAtD_RNA_3of4', 'Cells_RadialDistribution_FracAtD_mito_tubeness_19of20', 'Cells_RadialDistribution_FracAtD_mito_tubeness_1of16', 'Cells_RadialDistribution_FracAtD_mito_tubeness_20of20', 'Cells_RadialDistribution_MeanFrac_AGP_1of4', 'Cells_RadialDistribution_MeanFrac_DNA_2of4', 'Cells_RadialDistribution_MeanFrac_DNA_3of4', 'Cells_RadialDistribution_MeanFrac_DNA_4of4', 'Cells_RadialDistribution_MeanFrac_ER_1of4', 'Cells_RadialDistribution_MeanFrac_ER_3of4', 'Cells_RadialDistribution_MeanFrac_ER_4of4', 'Cells_RadialDistribution_MeanFrac_Mito_3of4', 'Cells_RadialDistribution_MeanFrac_Mito_4of4', 'Cells_RadialDistribution_MeanFrac_RNA_1of4', 'Cells_RadialDistribution_MeanFrac_RNA_3of4', 'Cells_RadialDistribution_MeanFrac_RNA_4of4', 'Cells_RadialDistribution_MeanFrac_mito_tubeness_14of20', 'Cells_RadialDistribution_MeanFrac_mito_tubeness_15of20', 'Cells_RadialDistribution_MeanFrac_mito_tubeness_16of20', 'Cells_RadialDistribution_MeanFrac_mito_tubeness_17of20', 'Cells_RadialDistribution_MeanFrac_mito_tubeness_1of20', 'Cells_RadialDistribution_MeanFrac_mito_tubeness_9of20', 'Cells_RadialDistribution_RadialCV_AGP_2of4', 'Cells_RadialDistribution_RadialCV_AGP_3of4', 'Cells_RadialDistribution_RadialCV_AGP_4of4', 'Cells_RadialDistribution_RadialCV_DNA_1of4', 'Cells_RadialDistribution_RadialCV_DNA_3of4', 'Cells_RadialDistribution_RadialCV_DNA_4of4', 'Cells_RadialDistribution_RadialCV_ER_1of4', 'Cells_RadialDistribution_RadialCV_ER_3of4', 'Cells_RadialDistribution_RadialCV_ER_4of4', 'Cells_RadialDistribution_RadialCV_Mito_1of4', 'Cells_RadialDistribution_RadialCV_RNA_1of4', 'Cells_RadialDistribution_RadialCV_RNA_2of4', 'Cells_RadialDistribution_RadialCV_RNA_4of4', 'Cells_RadialDistribution_RadialCV_mito_tubeness_12of16', 'Cells_RadialDistribution_RadialCV_mito_tubeness_16of16', 'Cells_RadialDistribution_RadialCV_mito_tubeness_16of20', 'Cells_RadialDistribution_RadialCV_mito_tubeness_1of16', 'Cells_RadialDistribution_RadialCV_mito_tubeness_1of20', 'Cells_RadialDistribution_RadialCV_mito_tubeness_20of20', 'Cells_RadialDistribution_RadialCV_mito_tubeness_2of16', 'Cells_RadialDistribution_RadialCV_mito_tubeness_2of20', 'Cells_RadialDistribution_RadialCV_mito_tubeness_3of16', 'Cells_RadialDistribution_RadialCV_mito_tubeness_3of20', 'Cells_RadialDistribution_RadialCV_mito_tubeness_5of20', 'Cells_RadialDistribution_RadialCV_mito_tubeness_9of16', 'Cells_Texture_AngularSecondMoment_AGP_10_03_256', 'Cells_Texture_AngularSecondMoment_ER_10_03_256', 'Cells_Texture_AngularSecondMoment_RNA_10_01_256', 'Cells_Texture_Correlation_AGP_10_00_256', 'Cells_Texture_Correlation_AGP_5_03_256', 'Cells_Texture_Correlation_DNA_10_00_256', 'Cells_Texture_Correlation_DNA_10_01_256', 'Cells_Texture_Correlation_DNA_10_02_256', 'Cells_Texture_Correlation_DNA_10_03_256', 'Cells_Texture_Correlation_DNA_3_02_256', 'Cells_Texture_Correlation_ER_10_01_256', 'Cells_Texture_Correlation_ER_3_00_256', 'Cells_Texture_Correlation_Mito_10_01_256', 'Cells_Texture_Correlation_Mito_10_03_256', 'Cells_Texture_Correlation_RNA_10_01_256', 'Cells_Texture_Correlation_RNA_3_02_256', 'Cells_Texture_InfoMeas1_DNA_10_00_256', 'Cells_Texture_InfoMeas1_DNA_10_01_256', 'Cells_Texture_InfoMeas1_DNA_10_02_256', 'Cells_Texture_InfoMeas1_DNA_10_03_256', 'Cells_Texture_InfoMeas1_DNA_3_02_256', 'Cells_Texture_InfoMeas1_DNA_5_03_256', 'Cells_Texture_InfoMeas1_ER_10_00_256', 'Cells_Texture_InfoMeas1_ER_10_01_256', 'Cells_Texture_InfoMeas1_ER_10_02_256', 'Cells_Texture_InfoMeas1_ER_10_03_256', 'Cells_Texture_InfoMeas1_ER_3_00_256', 'Cells_Texture_InfoMeas1_Mito_10_03_256', 'Cells_Texture_InfoMeas1_RNA_10_00_256', 'Cells_Texture_InfoMeas1_RNA_10_01_256', 'Cells_Texture_InfoMeas1_RNA_10_02_256', 'Cells_Texture_InfoMeas1_RNA_10_03_256', 'Cells_Texture_InfoMeas1_RNA_3_02_256', 'Cells_Texture_InfoMeas2_AGP_10_01_256', 'Cells_Texture_InfoMeas2_AGP_5_03_256', 'Cells_Texture_InfoMeas2_DNA_10_02_256', 'Cells_Texture_InfoMeas2_DNA_10_03_256', 'Cells_Texture_InfoMeas2_DNA_3_02_256', 'Cells_Texture_InfoMeas2_ER_10_01_256', 'Cells_Texture_InfoMeas2_ER_10_02_256', 'Cells_Texture_InfoMeas2_ER_3_03_256', 'Cells_Texture_InfoMeas2_RNA_10_03_256', 'Cells_Texture_InfoMeas2_RNA_5_01_256', 'Cells_Texture_SumAverage_RNA_3_02_256', 'Cells_Texture_SumEntropy_DNA_10_01_256', 'Cells_Texture_SumEntropy_RNA_10_01_256', 'Cells_Texture_SumVariance_DNA_10_03_256', 'Cytoplasm_AreaShape_Center_Y', 'Cytoplasm_AreaShape_Compactness', 'Cytoplasm_AreaShape_EulerNumber', 'Cytoplasm_AreaShape_Extent', 'Cytoplasm_AreaShape_FormFactor', 'Cytoplasm_AreaShape_Solidity', 'Cytoplasm_AreaShape_Zernike_0_0', 'Cytoplasm_AreaShape_Zernike_1_1', 'Cytoplasm_AreaShape_Zernike_2_0', 'Cytoplasm_AreaShape_Zernike_2_2', 'Cytoplasm_AreaShape_Zernike_3_1', 'Cytoplasm_AreaShape_Zernike_4_0', 'Cytoplasm_AreaShape_Zernike_4_2', 'Cytoplasm_AreaShape_Zernike_5_1', 'Cytoplasm_AreaShape_Zernike_5_3', 'Cytoplasm_AreaShape_Zernike_6_0', 'Cytoplasm_AreaShape_Zernike_6_2', 'Cytoplasm_AreaShape_Zernike_6_4', 'Cytoplasm_AreaShape_Zernike_7_1', 'Cytoplasm_AreaShape_Zernike_7_3', 'Cytoplasm_AreaShape_Zernike_7_5', 'Cytoplasm_AreaShape_Zernike_8_0', 'Cytoplasm_AreaShape_Zernike_8_2', 'Cytoplasm_AreaShape_Zernike_8_4', 'Cytoplasm_AreaShape_Zernike_8_6', 'Cytoplasm_AreaShape_Zernike_9_1', 'Cytoplasm_AreaShape_Zernike_9_3', 'Cytoplasm_AreaShape_Zernike_9_5', 'Cytoplasm_AreaShape_Zernike_9_7', 'Cytoplasm_Correlation_Correlation_DNA_ER', 'Cytoplasm_Correlation_Correlation_DNA_Mito', 'Cytoplasm_Correlation_Correlation_DNA_RNA', 'Cytoplasm_Correlation_Correlation_ER_RNA', 'Cytoplasm_Correlation_Correlation_Mito_RNA', 'Cytoplasm_Correlation_K_AGP_ER', 'Cytoplasm_Correlation_K_DNA_ER', 'Cytoplasm_Correlation_K_DNA_Mito', 'Cytoplasm_Correlation_K_DNA_RNA', 'Cytoplasm_Correlation_K_ER_AGP', 'Cytoplasm_Correlation_K_ER_DNA', 'Cytoplasm_Correlation_K_Mito_DNA', 'Cytoplasm_Correlation_K_Mito_RNA', 'Cytoplasm_Correlation_K_RNA_AGP', 'Cytoplasm_Correlation_K_RNA_DNA', 'Cytoplasm_Correlation_Manders_Mito_ER', 'Cytoplasm_Correlation_Manders_RNA_AGP', 'Cytoplasm_Correlation_Overlap_AGP_DNA', 'Cytoplasm_Correlation_Overlap_AGP_RNA', 'Cytoplasm_Correlation_Overlap_DNA_ER', 'Cytoplasm_Correlation_Overlap_DNA_RNA', 'Cytoplasm_Correlation_Overlap_ER_RNA', 'Cytoplasm_Correlation_RWC_DNA_ER', 'Cytoplasm_Correlation_RWC_DNA_Mito', 'Cytoplasm_Correlation_RWC_ER_AGP', 'Cytoplasm_Correlation_RWC_ER_DNA', 'Cytoplasm_Correlation_RWC_Mito_DNA', 'Cytoplasm_Correlation_RWC_Mito_ER', 'Cytoplasm_Correlation_RWC_RNA_DNA', 'Cytoplasm_Correlation_RWC_RNA_ER', 'Cytoplasm_Correlation_RWC_RNA_Mito', 'Cytoplasm_Granularity_10_DNA', 'Cytoplasm_Granularity_1_AGP', 'Cytoplasm_Granularity_1_DNA', 'Cytoplasm_Granularity_1_ER', 'Cytoplasm_Granularity_2_DNA', 'Cytoplasm_Granularity_2_ER', 'Cytoplasm_Granularity_2_Mito', 'Cytoplasm_Granularity_2_RNA', 'Cytoplasm_Granularity_3_AGP', 'Cytoplasm_Granularity_3_DNA', 'Cytoplasm_Granularity_3_ER', 'Cytoplasm_Granularity_3_RNA', 'Cytoplasm_Granularity_4_AGP', 'Cytoplasm_Granularity_4_DNA', 'Cytoplasm_Granularity_4_ER', 'Cytoplasm_Granularity_4_RNA', 'Cytoplasm_Granularity_5_DNA', 'Cytoplasm_Granularity_5_ER', 'Cytoplasm_Granularity_5_Mito', 'Cytoplasm_Granularity_6_DNA', 'Cytoplasm_Granularity_6_ER', 'Cytoplasm_Granularity_7_DNA', 'Cytoplasm_Granularity_8_DNA', 'Cytoplasm_Granularity_9_DNA', 'Cytoplasm_Intensity_IntegratedIntensityEdge_AGP', 'Cytoplasm_Intensity_IntegratedIntensityEdge_DNA', 'Cytoplasm_Intensity_IntegratedIntensityEdge_ER', 'Cytoplasm_Intensity_IntegratedIntensityEdge_RNA', 'Cytoplasm_Intensity_IntegratedIntensity_DNA', 'Cytoplasm_Intensity_MADIntensity_Mito', 'Cytoplasm_Intensity_MADIntensity_RNA', 'Cytoplasm_Intensity_MassDisplacement_DNA', 'Cytoplasm_Intensity_MaxIntensity_ER', 'Cytoplasm_Intensity_MaxIntensity_Mito', 'Cytoplasm_Intensity_MinIntensity_Mito', 'Cytoplasm_RadialDistribution_FracAtD_AGP_1of4', 'Cytoplasm_RadialDistribution_FracAtD_AGP_4of4', 'Cytoplasm_RadialDistribution_FracAtD_DNA_2of4', 'Cytoplasm_RadialDistribution_FracAtD_DNA_3of4', 'Cytoplasm_RadialDistribution_FracAtD_DNA_4of4', 'Cytoplasm_RadialDistribution_FracAtD_ER_1of4', 'Cytoplasm_RadialDistribution_FracAtD_ER_3of4', 'Cytoplasm_RadialDistribution_FracAtD_ER_4of4', 'Cytoplasm_RadialDistribution_FracAtD_RNA_1of4', 'Cytoplasm_RadialDistribution_FracAtD_mito_tubeness_10of16', 'Cytoplasm_RadialDistribution_FracAtD_mito_tubeness_11of16', 'Cytoplasm_RadialDistribution_FracAtD_mito_tubeness_12of20', 'Cytoplasm_RadialDistribution_FracAtD_mito_tubeness_13of16', 'Cytoplasm_RadialDistribution_FracAtD_mito_tubeness_13of20', 'Cytoplasm_RadialDistribution_FracAtD_mito_tubeness_14of16', 'Cytoplasm_RadialDistribution_FracAtD_mito_tubeness_15of16', 'Cytoplasm_RadialDistribution_FracAtD_mito_tubeness_15of20', 'Cytoplasm_RadialDistribution_FracAtD_mito_tubeness_18of20', 'Cytoplasm_RadialDistribution_FracAtD_mito_tubeness_19of20', 'Cytoplasm_RadialDistribution_FracAtD_mito_tubeness_20of20', 'Cytoplasm_RadialDistribution_MeanFrac_AGP_3of4', 'Cytoplasm_RadialDistribution_MeanFrac_AGP_4of4', 'Cytoplasm_RadialDistribution_MeanFrac_DNA_1of4', 'Cytoplasm_RadialDistribution_MeanFrac_DNA_4of4', 'Cytoplasm_RadialDistribution_MeanFrac_ER_3of4', 'Cytoplasm_RadialDistribution_MeanFrac_ER_4of4', 'Cytoplasm_RadialDistribution_MeanFrac_Mito_1of4', 'Cytoplasm_RadialDistribution_MeanFrac_RNA_1of4', 'Cytoplasm_RadialDistribution_MeanFrac_RNA_4of4', 'Cytoplasm_RadialDistribution_MeanFrac_mito_tubeness_10of16', 'Cytoplasm_RadialDistribution_MeanFrac_mito_tubeness_11of16', 'Cytoplasm_RadialDistribution_MeanFrac_mito_tubeness_12of20', 'Cytoplasm_RadialDistribution_MeanFrac_mito_tubeness_13of16', 'Cytoplasm_RadialDistribution_MeanFrac_mito_tubeness_13of20', 'Cytoplasm_RadialDistribution_MeanFrac_mito_tubeness_14of20', 'Cytoplasm_RadialDistribution_MeanFrac_mito_tubeness_15of16', 'Cytoplasm_RadialDistribution_MeanFrac_mito_tubeness_15of20', 'Cytoplasm_RadialDistribution_MeanFrac_mito_tubeness_17of20', 'Cytoplasm_RadialDistribution_MeanFrac_mito_tubeness_19of20', 'Cytoplasm_RadialDistribution_MeanFrac_mito_tubeness_20of20', 'Cytoplasm_RadialDistribution_RadialCV_AGP_2of4', 'Cytoplasm_RadialDistribution_RadialCV_DNA_1of4', 'Cytoplasm_RadialDistribution_RadialCV_DNA_3of4', 'Cytoplasm_RadialDistribution_RadialCV_DNA_4of4', 'Cytoplasm_RadialDistribution_RadialCV_ER_1of4', 'Cytoplasm_RadialDistribution_RadialCV_ER_4of4', 'Cytoplasm_RadialDistribution_RadialCV_Mito_1of4', 'Cytoplasm_RadialDistribution_RadialCV_RNA_1of4', 'Cytoplasm_RadialDistribution_RadialCV_RNA_4of4', 'Cytoplasm_RadialDistribution_RadialCV_mito_tubeness_10of16', 'Cytoplasm_RadialDistribution_RadialCV_mito_tubeness_11of16', 'Cytoplasm_RadialDistribution_RadialCV_mito_tubeness_12of16', 'Cytoplasm_RadialDistribution_RadialCV_mito_tubeness_12of20', 'Cytoplasm_RadialDistribution_RadialCV_mito_tubeness_13of20', 'Cytoplasm_RadialDistribution_RadialCV_mito_tubeness_16of16', 'Cytoplasm_RadialDistribution_RadialCV_mito_tubeness_16of20', 'Cytoplasm_RadialDistribution_RadialCV_mito_tubeness_17of20', 'Cytoplasm_RadialDistribution_RadialCV_mito_tubeness_20of20', 'Cytoplasm_Texture_AngularSecondMoment_ER_10_03_256', 'Cytoplasm_Texture_AngularSecondMoment_Mito_10_00_256', 'Cytoplasm_Texture_Contrast_ER_3_00_256', 'Cytoplasm_Texture_Contrast_Mito_5_03_256', 'Cytoplasm_Texture_Correlation_AGP_10_02_256', 'Cytoplasm_Texture_Correlation_AGP_5_00_256', 'Cytoplasm_Texture_Correlation_ER_10_00_256', 'Cytoplasm_Texture_Correlation_ER_10_01_256', 'Cytoplasm_Texture_Correlation_ER_10_02_256', 'Cytoplasm_Texture_Correlation_ER_10_03_256', 'Cytoplasm_Texture_Correlation_ER_3_02_256', 'Cytoplasm_Texture_Correlation_Mito_10_00_256', 'Cytoplasm_Texture_Correlation_Mito_10_01_256', 'Cytoplasm_Texture_Correlation_Mito_10_03_256', 'Cytoplasm_Texture_Correlation_Mito_5_01_256', 'Cytoplasm_Texture_Correlation_Mito_5_03_256', 'Cytoplasm_Texture_Correlation_RNA_10_00_256', 'Cytoplasm_Texture_Correlation_RNA_10_01_256', 'Cytoplasm_Texture_Correlation_RNA_3_02_256', 'Cytoplasm_Texture_DifferenceVariance_DNA_5_03_256', 'Cytoplasm_Texture_DifferenceVariance_ER_10_03_256', 'Cytoplasm_Texture_InfoMeas1_AGP_10_01_256', 'Cytoplasm_Texture_InfoMeas1_AGP_10_03_256', 'Cytoplasm_Texture_InfoMeas1_AGP_3_00_256', 'Cytoplasm_Texture_InfoMeas1_ER_10_00_256', 'Cytoplasm_Texture_InfoMeas1_ER_10_01_256', 'Cytoplasm_Texture_InfoMeas1_ER_10_02_256', 'Cytoplasm_Texture_InfoMeas1_ER_10_03_256', 'Cytoplasm_Texture_InfoMeas1_ER_5_01_256', 'Cytoplasm_Texture_InfoMeas1_ER_5_03_256', 'Cytoplasm_Texture_InfoMeas1_Mito_10_00_256', 'Cytoplasm_Texture_InfoMeas1_Mito_10_02_256', 'Cytoplasm_Texture_InfoMeas1_Mito_5_01_256', 'Cytoplasm_Texture_InfoMeas1_RNA_10_00_256', 'Cytoplasm_Texture_InfoMeas1_RNA_10_03_256', 'Cytoplasm_Texture_InfoMeas1_RNA_3_02_256', 'Cytoplasm_Texture_InfoMeas1_RNA_5_01_256', 'Cytoplasm_Texture_InfoMeas1_RNA_5_03_256', 'Cytoplasm_Texture_InfoMeas2_AGP_3_03_256', 'Cytoplasm_Texture_InfoMeas2_ER_10_03_256', 'Cytoplasm_Texture_InfoMeas2_ER_5_03_256', 'Cytoplasm_Texture_InfoMeas2_RNA_5_00_256', 'Cytoplasm_Texture_SumAverage_RNA_3_00_256', 'Cytoplasm_Texture_SumEntropy_ER_10_00_256', 'Cytoplasm_Texture_SumEntropy_Mito_5_00_256', 'Cytoplasm_Texture_SumVariance_ER_10_00_256', 'Cytoplasm_Texture_SumVariance_RNA_5_02_256', 'Nuclei_AreaShape_BoundingBoxArea', 'Nuclei_AreaShape_Compactness', 'Nuclei_AreaShape_Eccentricity', 'Nuclei_AreaShape_FormFactor', 'Nuclei_AreaShape_MinFeretDiameter', 'Nuclei_AreaShape_Orientation', 'Nuclei_AreaShape_Solidity', 'Nuclei_AreaShape_Zernike_0_0', 'Nuclei_AreaShape_Zernike_1_1', 'Nuclei_AreaShape_Zernike_2_2', 'Nuclei_AreaShape_Zernike_3_1', 'Nuclei_AreaShape_Zernike_3_3', 'Nuclei_AreaShape_Zernike_4_0', 'Nuclei_AreaShape_Zernike_4_2', 'Nuclei_AreaShape_Zernike_4_4', 'Nuclei_AreaShape_Zernike_5_1', 'Nuclei_AreaShape_Zernike_5_3', 'Nuclei_AreaShape_Zernike_5_5', 'Nuclei_AreaShape_Zernike_6_0', 'Nuclei_AreaShape_Zernike_6_2', 'Nuclei_AreaShape_Zernike_6_4', 'Nuclei_AreaShape_Zernike_6_6', 'Nuclei_AreaShape_Zernike_7_1', 'Nuclei_AreaShape_Zernike_7_3', 'Nuclei_AreaShape_Zernike_7_5', 'Nuclei_AreaShape_Zernike_7_7', 'Nuclei_AreaShape_Zernike_8_0', 'Nuclei_AreaShape_Zernike_8_2', 'Nuclei_AreaShape_Zernike_8_4', 'Nuclei_AreaShape_Zernike_8_6', 'Nuclei_AreaShape_Zernike_8_8', 'Nuclei_AreaShape_Zernike_9_1', 'Nuclei_AreaShape_Zernike_9_3', 'Nuclei_AreaShape_Zernike_9_5', 'Nuclei_AreaShape_Zernike_9_7', 'Nuclei_AreaShape_Zernike_9_9', 'Nuclei_Correlation_Correlation_DNA_ER', 'Nuclei_Correlation_Correlation_DNA_RNA', 'Nuclei_Correlation_Correlation_ER_Mito', 'Nuclei_Correlation_Correlation_ER_RNA', 'Nuclei_Correlation_Correlation_Mito_RNA', 'Nuclei_Correlation_K_AGP_ER', 'Nuclei_Correlation_K_AGP_RNA', 'Nuclei_Correlation_K_ER_DNA', 'Nuclei_Correlation_K_Mito_DNA', 'Nuclei_Correlation_Overlap_AGP_RNA', 'Nuclei_Correlation_Overlap_DNA_ER', 'Nuclei_Correlation_Overlap_DNA_Mito', 'Nuclei_Correlation_Overlap_DNA_RNA', 'Nuclei_Correlation_Overlap_ER_Mito', 'Nuclei_Correlation_Overlap_ER_RNA', 'Nuclei_Granularity_10_ER', 'Nuclei_Granularity_10_Mito', 'Nuclei_Granularity_10_RNA', 'Nuclei_Granularity_11_AGP', 'Nuclei_Granularity_11_ER', 'Nuclei_Granularity_11_RNA', 'Nuclei_Granularity_12_AGP', 'Nuclei_Granularity_12_ER', 'Nuclei_Granularity_12_RNA', 'Nuclei_Granularity_13_ER', 'Nuclei_Granularity_13_Mito', 'Nuclei_Granularity_13_RNA', 'Nuclei_Granularity_1_AGP', 'Nuclei_Granularity_1_ER', 'Nuclei_Granularity_1_RNA', 'Nuclei_Granularity_2_DNA', 'Nuclei_Granularity_2_Mito', 'Nuclei_Granularity_2_RNA', 'Nuclei_Granularity_3_AGP', 'Nuclei_Granularity_3_DNA', 'Nuclei_Granularity_3_ER', 'Nuclei_Granularity_3_RNA', 'Nuclei_Granularity_4_DNA', 'Nuclei_Granularity_4_RNA', 'Nuclei_Granularity_5_DNA', 'Nuclei_Granularity_6_DNA', 'Nuclei_Granularity_6_ER', 'Nuclei_Granularity_6_RNA', 'Nuclei_Granularity_7_DNA', 'Nuclei_Granularity_7_ER', 'Nuclei_Granularity_7_RNA', 'Nuclei_Granularity_8_DNA', 'Nuclei_Granularity_8_ER', 'Nuclei_Granularity_8_RNA', 'Nuclei_Granularity_9_ER', 'Nuclei_Granularity_9_RNA', 'Nuclei_Intensity_IntegratedIntensityEdge_DNA', 'Nuclei_Intensity_IntegratedIntensityEdge_ER', 'Nuclei_Intensity_IntegratedIntensityEdge_Mito', 'Nuclei_Intensity_IntegratedIntensityEdge_RNA', 'Nuclei_Intensity_IntegratedIntensity_AGP', 'Nuclei_Intensity_IntegratedIntensity_DNA', 'Nuclei_Intensity_IntegratedIntensity_ER', 'Nuclei_Intensity_IntegratedIntensity_RNA', 'Nuclei_Intensity_LowerQuartileIntensity_DNA', 'Nuclei_Intensity_MADIntensity_DNA', 'Nuclei_Intensity_MassDisplacement_DNA', 'Nuclei_Intensity_MassDisplacement_ER', 'Nuclei_Intensity_MassDisplacement_Mito', 'Nuclei_Intensity_MassDisplacement_RNA', 'Nuclei_Intensity_MaxIntensity_RNA', 'Nuclei_Intensity_MeanIntensityEdge_RNA', 'Nuclei_Intensity_MedianIntensity_DNA', 'Nuclei_Intensity_MinIntensity_DNA', 'Nuclei_Intensity_MinIntensity_ER', 'Nuclei_Intensity_MinIntensity_Mito', 'Nuclei_Intensity_MinIntensity_RNA', 'Nuclei_Intensity_StdIntensityEdge_DNA', 'Nuclei_Neighbors_AngleBetweenNeighbors_1', 'Nuclei_Neighbors_PercentTouching_1', 'Nuclei_Neighbors_SecondClosestDistance_1', 'Nuclei_ObjectSkeleton_NumberBranchEnds_mito_skel', 'Nuclei_ObjectSkeleton_NumberNonTrunkBranches_mito_skel', 'Nuclei_ObjectSkeleton_NumberTrunks_mito_skel', 'Nuclei_RadialDistribution_FracAtD_AGP_2of4', 'Nuclei_RadialDistribution_FracAtD_AGP_4of4', 'Nuclei_RadialDistribution_FracAtD_DNA_2of4', 'Nuclei_RadialDistribution_FracAtD_DNA_3of4', 'Nuclei_RadialDistribution_FracAtD_DNA_4of4', 'Nuclei_RadialDistribution_FracAtD_ER_2of4', 'Nuclei_RadialDistribution_FracAtD_ER_3of4', 'Nuclei_RadialDistribution_FracAtD_ER_4of4', 'Nuclei_RadialDistribution_FracAtD_Mito_3of4', 'Nuclei_RadialDistribution_FracAtD_RNA_2of4', 'Nuclei_RadialDistribution_FracAtD_RNA_3of4', 'Nuclei_RadialDistribution_FracAtD_RNA_4of4', 'Nuclei_RadialDistribution_MeanFrac_AGP_1of4', 'Nuclei_RadialDistribution_MeanFrac_DNA_3of4', 'Nuclei_RadialDistribution_MeanFrac_ER_1of4', 'Nuclei_RadialDistribution_MeanFrac_ER_3of4', 'Nuclei_RadialDistribution_MeanFrac_ER_4of4', 'Nuclei_RadialDistribution_MeanFrac_Mito_3of4', 'Nuclei_RadialDistribution_MeanFrac_Mito_4of4', 'Nuclei_RadialDistribution_MeanFrac_RNA_1of4', 'Nuclei_RadialDistribution_MeanFrac_RNA_4of4', 'Nuclei_RadialDistribution_RadialCV_AGP_1of4', 'Nuclei_RadialDistribution_RadialCV_AGP_2of4', 'Nuclei_RadialDistribution_RadialCV_AGP_4of4', 'Nuclei_RadialDistribution_RadialCV_DNA_1of4', 'Nuclei_RadialDistribution_RadialCV_DNA_2of4', 'Nuclei_RadialDistribution_RadialCV_DNA_4of4', 'Nuclei_RadialDistribution_RadialCV_ER_1of4', 'Nuclei_RadialDistribution_RadialCV_ER_2of4', 'Nuclei_RadialDistribution_RadialCV_ER_3of4', 'Nuclei_RadialDistribution_RadialCV_ER_4of4', 'Nuclei_RadialDistribution_RadialCV_RNA_1of4', 'Nuclei_RadialDistribution_RadialCV_RNA_3of4', 'Nuclei_RadialDistribution_RadialCV_RNA_4of4', 'Nuclei_Texture_Contrast_AGP_5_00_256', 'Nuclei_Texture_Contrast_Mito_10_01_256', 'Nuclei_Texture_Contrast_RNA_3_02_256', 'Nuclei_Texture_Correlation_AGP_10_01_256', 'Nuclei_Texture_Correlation_AGP_10_02_256', 'Nuclei_Texture_Correlation_AGP_5_00_256', 'Nuclei_Texture_Correlation_DNA_10_00_256', 'Nuclei_Texture_Correlation_DNA_10_01_256', 'Nuclei_Texture_Correlation_DNA_10_02_256', 'Nuclei_Texture_Correlation_DNA_10_03_256', 'Nuclei_Texture_Correlation_DNA_3_00_256', 'Nuclei_Texture_Correlation_DNA_5_01_256', 'Nuclei_Texture_Correlation_DNA_5_02_256', 'Nuclei_Texture_Correlation_DNA_5_03_256', 'Nuclei_Texture_Correlation_ER_10_00_256', 'Nuclei_Texture_Correlation_ER_10_01_256', 'Nuclei_Texture_Correlation_ER_10_02_256', 'Nuclei_Texture_Correlation_ER_10_03_256', 'Nuclei_Texture_Correlation_ER_5_00_256', 'Nuclei_Texture_Correlation_Mito_10_00_256', 'Nuclei_Texture_Correlation_Mito_10_03_256', 'Nuclei_Texture_Correlation_Mito_5_01_256', 'Nuclei_Texture_Correlation_Mito_5_02_256', 'Nuclei_Texture_Correlation_Mito_5_03_256', 'Nuclei_Texture_Correlation_RNA_10_00_256', 'Nuclei_Texture_Correlation_RNA_10_01_256', 'Nuclei_Texture_Correlation_RNA_10_02_256', 'Nuclei_Texture_Correlation_RNA_10_03_256', 'Nuclei_Texture_Correlation_RNA_5_00_256', 'Nuclei_Texture_Correlation_RNA_5_01_256', 'Nuclei_Texture_Correlation_RNA_5_03_256', 'Nuclei_Texture_DifferenceVariance_DNA_5_02_256', 'Nuclei_Texture_DifferenceVariance_ER_10_03_256', 'Nuclei_Texture_DifferenceVariance_Mito_10_01_256', 'Nuclei_Texture_DifferenceVariance_RNA_10_03_256', 'Nuclei_Texture_Entropy_DNA_10_01_256', 'Nuclei_Texture_InfoMeas1_AGP_10_01_256', 'Nuclei_Texture_InfoMeas1_AGP_10_02_256', 'Nuclei_Texture_InfoMeas1_AGP_10_03_256', 'Nuclei_Texture_InfoMeas1_AGP_5_03_256', 'Nuclei_Texture_InfoMeas1_DNA_10_00_256', 'Nuclei_Texture_InfoMeas1_DNA_10_01_256', 'Nuclei_Texture_InfoMeas1_DNA_10_02_256', 'Nuclei_Texture_InfoMeas1_DNA_10_03_256', 'Nuclei_Texture_InfoMeas1_DNA_5_00_256', 'Nuclei_Texture_InfoMeas1_DNA_5_01_256', 'Nuclei_Texture_InfoMeas1_DNA_5_02_256', 'Nuclei_Texture_InfoMeas1_DNA_5_03_256', 'Nuclei_Texture_InfoMeas1_ER_10_00_256', 'Nuclei_Texture_InfoMeas1_ER_10_01_256', 'Nuclei_Texture_InfoMeas1_ER_10_02_256', 'Nuclei_Texture_InfoMeas1_ER_10_03_256', 'Nuclei_Texture_InfoMeas1_ER_3_00_256', 'Nuclei_Texture_InfoMeas1_Mito_10_00_256', 'Nuclei_Texture_InfoMeas1_Mito_3_00_256', 'Nuclei_Texture_InfoMeas1_Mito_5_01_256', 'Nuclei_Texture_InfoMeas1_RNA_10_00_256', 'Nuclei_Texture_InfoMeas1_RNA_10_01_256', 'Nuclei_Texture_InfoMeas1_RNA_10_02_256', 'Nuclei_Texture_InfoMeas1_RNA_10_03_256', 'Nuclei_Texture_InfoMeas1_RNA_3_02_256', 'Nuclei_Texture_InfoMeas1_RNA_5_01_256', 'Nuclei_Texture_InfoMeas1_RNA_5_03_256', 'Nuclei_Texture_InfoMeas2_DNA_10_01_256', 'Nuclei_Texture_InfoMeas2_DNA_10_03_256', 'Nuclei_Texture_InfoMeas2_DNA_3_02_256', 'Nuclei_Texture_InfoMeas2_DNA_5_01_256', 'Nuclei_Texture_InfoMeas2_ER_3_01_256', 'Nuclei_Texture_InfoMeas2_Mito_3_00_256', 'Nuclei_Texture_InfoMeas2_RNA_3_00_256', 'Nuclei_Texture_InverseDifferenceMoment_DNA_10_01_256', 'Nuclei_Texture_InverseDifferenceMoment_ER_3_00_256', 'Nuclei_Texture_SumEntropy_AGP_10_03_256', 'Nuclei_Texture_SumEntropy_ER_10_01_256', 'Nuclei_Texture_SumEntropy_RNA_10_01_256', 'Nuclei_Texture_SumVariance_AGP_10_03_256', 'Nuclei_Texture_SumVariance_ER_10_03_256', 'Nuclei_Texture_SumVariance_RNA_10_01_256']\n"
     ]
    }
   ],
   "source": [
    "print(feature_cols)"
   ]
  },
  {
   "cell_type": "markdown",
   "metadata": {},
   "source": [
    "## Datasplits\n",
    "The datasplits from the Hofmarcher et al study are in the following directory:"
   ]
  },
  {
   "cell_type": "code",
   "execution_count": 15,
   "metadata": {},
   "outputs": [],
   "source": [
    "datasplit_dir = '/SSL_data/supervisedCNNs/Bray_bioactives/datasplits_Hofmarcher'"
   ]
  },
  {
   "cell_type": "markdown",
   "metadata": {},
   "source": [
    "There were 3 versions of train/val/test splits:"
   ]
  },
  {
   "cell_type": "code",
   "execution_count": 16,
   "metadata": {},
   "outputs": [
    {
     "data": {
      "text/plain": [
       "['datasplit1-test.csv',\n",
       " 'datasplit1-train.csv',\n",
       " 'datasplit1-val.csv',\n",
       " 'datasplit2-test.csv',\n",
       " 'datasplit2-train.csv',\n",
       " 'datasplit2-val.csv',\n",
       " 'datasplit3-test.csv',\n",
       " 'datasplit3-train.csv',\n",
       " 'datasplit3-val.csv']"
      ]
     },
     "execution_count": 16,
     "metadata": {},
     "output_type": "execute_result"
    }
   ],
   "source": [
    "sorted(os.listdir(datasplit_dir))"
   ]
  },
  {
   "cell_type": "markdown",
   "metadata": {},
   "source": [
    "To obtain train splits, load e.g. `datasplit1-train.csv` and use `INCHIKEY` column to subset the feature and activity data:"
   ]
  },
  {
   "cell_type": "code",
   "execution_count": 17,
   "metadata": {},
   "outputs": [],
   "source": [
    "train_df_3 = pd.read_csv(os.path.join(datasplit_dir, 'datasplit3-train.csv'))"
   ]
  },
  {
   "cell_type": "code",
   "execution_count": 18,
   "metadata": {},
   "outputs": [
    {
     "data": {
      "text/html": [
       "<div>\n",
       "<style scoped>\n",
       "    .dataframe tbody tr th:only-of-type {\n",
       "        vertical-align: middle;\n",
       "    }\n",
       "\n",
       "    .dataframe tbody tr th {\n",
       "        vertical-align: top;\n",
       "    }\n",
       "\n",
       "    .dataframe thead th {\n",
       "        text-align: right;\n",
       "    }\n",
       "</style>\n",
       "<table border=\"1\" class=\"dataframe\">\n",
       "  <thead>\n",
       "    <tr style=\"text-align: right;\">\n",
       "      <th></th>\n",
       "      <th>INCHIKEY</th>\n",
       "    </tr>\n",
       "  </thead>\n",
       "  <tbody>\n",
       "    <tr>\n",
       "      <th>0</th>\n",
       "      <td>CAJIGINSTLKQMM-UHFFFAOYSA-N</td>\n",
       "    </tr>\n",
       "    <tr>\n",
       "      <th>1</th>\n",
       "      <td>CAJIGINSTLKQMM-UHFFFAOYSA-N</td>\n",
       "    </tr>\n",
       "    <tr>\n",
       "      <th>2</th>\n",
       "      <td>CAJIGINSTLKQMM-UHFFFAOYSA-N</td>\n",
       "    </tr>\n",
       "    <tr>\n",
       "      <th>3</th>\n",
       "      <td>CAJIGINSTLKQMM-UHFFFAOYSA-N</td>\n",
       "    </tr>\n",
       "    <tr>\n",
       "      <th>4</th>\n",
       "      <td>CAJIGINSTLKQMM-UHFFFAOYSA-N</td>\n",
       "    </tr>\n",
       "  </tbody>\n",
       "</table>\n",
       "</div>"
      ],
      "text/plain": [
       "                      INCHIKEY\n",
       "0  CAJIGINSTLKQMM-UHFFFAOYSA-N\n",
       "1  CAJIGINSTLKQMM-UHFFFAOYSA-N\n",
       "2  CAJIGINSTLKQMM-UHFFFAOYSA-N\n",
       "3  CAJIGINSTLKQMM-UHFFFAOYSA-N\n",
       "4  CAJIGINSTLKQMM-UHFFFAOYSA-N"
      ]
     },
     "execution_count": 18,
     "metadata": {},
     "output_type": "execute_result"
    }
   ],
   "source": [
    "train_df_3[['INCHIKEY']].head()"
   ]
  },
  {
   "cell_type": "code",
   "execution_count": 19,
   "metadata": {},
   "outputs": [
    {
     "data": {
      "text/plain": [
       "(198737, 17)"
      ]
     },
     "execution_count": 19,
     "metadata": {},
     "output_type": "execute_result"
    }
   ],
   "source": [
    "train_df_3.shape"
   ]
  },
  {
   "cell_type": "code",
   "execution_count": 20,
   "metadata": {},
   "outputs": [
    {
     "data": {
      "text/plain": [
       "(56687, 17)"
      ]
     },
     "execution_count": 20,
     "metadata": {},
     "output_type": "execute_result"
    }
   ],
   "source": [
    "test_df_3 = pd.read_csv(os.path.join(datasplit_dir, 'datasplit3-test.csv'))\n",
    "test_df_3.shape"
   ]
  },
  {
   "cell_type": "code",
   "execution_count": 21,
   "metadata": {},
   "outputs": [
    {
     "data": {
      "text/plain": [
       "(28610, 17)"
      ]
     },
     "execution_count": 21,
     "metadata": {},
     "output_type": "execute_result"
    }
   ],
   "source": [
    "val_df_3 = pd.read_csv(os.path.join(datasplit_dir, 'datasplit3-val.csv'))\n",
    "val_df_3.shape"
   ]
  },
  {
   "cell_type": "markdown",
   "metadata": {},
   "source": [
    "check the labels "
   ]
  },
  {
   "cell_type": "code",
   "execution_count": 22,
   "metadata": {},
   "outputs": [],
   "source": [
    "bioactivity_labels_dir = '/SSL_data/supervisedCNNs/Bray_bioactives/ChEMBL/Label_Matrix_Hofmarcher'"
   ]
  },
  {
   "cell_type": "code",
   "execution_count": 23,
   "metadata": {},
   "outputs": [],
   "source": [
    "compound_index_df = pd.read_csv(os.path.join(bioactivity_labels_dir, 'row-compound-index.csv'))"
   ]
  },
  {
   "cell_type": "code",
   "execution_count": 24,
   "metadata": {},
   "outputs": [
    {
     "data": {
      "text/html": [
       "<div>\n",
       "<style scoped>\n",
       "    .dataframe tbody tr th:only-of-type {\n",
       "        vertical-align: middle;\n",
       "    }\n",
       "\n",
       "    .dataframe tbody tr th {\n",
       "        vertical-align: top;\n",
       "    }\n",
       "\n",
       "    .dataframe thead th {\n",
       "        text-align: right;\n",
       "    }\n",
       "</style>\n",
       "<table border=\"1\" class=\"dataframe\">\n",
       "  <thead>\n",
       "    <tr style=\"text-align: right;\">\n",
       "      <th></th>\n",
       "      <th>INDEX</th>\n",
       "      <th>INCHIKEY</th>\n",
       "    </tr>\n",
       "  </thead>\n",
       "  <tbody>\n",
       "    <tr>\n",
       "      <th>0</th>\n",
       "      <td>0</td>\n",
       "      <td>IENZQIKPVFGBNW-UHFFFAOYSA-N</td>\n",
       "    </tr>\n",
       "    <tr>\n",
       "      <th>1</th>\n",
       "      <td>1</td>\n",
       "      <td>GSDSWSVVBLHKDQ-UHFFFAOYSA-N</td>\n",
       "    </tr>\n",
       "    <tr>\n",
       "      <th>2</th>\n",
       "      <td>2</td>\n",
       "      <td>CGIGDMFJXJATDK-UHFFFAOYSA-N</td>\n",
       "    </tr>\n",
       "    <tr>\n",
       "      <th>3</th>\n",
       "      <td>3</td>\n",
       "      <td>DSXXEELGXBCYNQ-UHFFFAOYSA-N</td>\n",
       "    </tr>\n",
       "    <tr>\n",
       "      <th>4</th>\n",
       "      <td>4</td>\n",
       "      <td>MYSWGUAQZAJSOK-UHFFFAOYSA-N</td>\n",
       "    </tr>\n",
       "  </tbody>\n",
       "</table>\n",
       "</div>"
      ],
      "text/plain": [
       "   INDEX                     INCHIKEY\n",
       "0      0  IENZQIKPVFGBNW-UHFFFAOYSA-N\n",
       "1      1  GSDSWSVVBLHKDQ-UHFFFAOYSA-N\n",
       "2      2  CGIGDMFJXJATDK-UHFFFAOYSA-N\n",
       "3      3  DSXXEELGXBCYNQ-UHFFFAOYSA-N\n",
       "4      4  MYSWGUAQZAJSOK-UHFFFAOYSA-N"
      ]
     },
     "execution_count": 24,
     "metadata": {},
     "output_type": "execute_result"
    }
   ],
   "source": [
    "compound_index_df.head()"
   ]
  },
  {
   "cell_type": "code",
   "execution_count": 25,
   "metadata": {},
   "outputs": [
    {
     "name": "stdout",
     "output_type": "stream",
     "text": [
      "Number of compound indexes: 10574\n"
     ]
    }
   ],
   "source": [
    "print(f\"Number of compound indexes: {len(compound_index_df)}\")"
   ]
  },
  {
   "cell_type": "markdown",
   "metadata": {},
   "source": [
    "Now we will merge compound with featuers"
   ]
  },
  {
   "cell_type": "code",
   "execution_count": 26,
   "metadata": {},
   "outputs": [
    {
     "name": "stdout",
     "output_type": "stream",
     "text": [
      "   INDEX                     INCHIKEY  Cells_AreaShape_BoundingBoxArea  \\\n",
      "0      0  IENZQIKPVFGBNW-UHFFFAOYSA-N                         -0.92419   \n",
      "1      0  IENZQIKPVFGBNW-UHFFFAOYSA-N                          6.47680   \n",
      "2      0  IENZQIKPVFGBNW-UHFFFAOYSA-N                          0.61509   \n",
      "3      0  IENZQIKPVFGBNW-UHFFFAOYSA-N                          0.13455   \n",
      "4      0  IENZQIKPVFGBNW-UHFFFAOYSA-N                          4.76600   \n",
      "\n",
      "   Cells_AreaShape_BoundingBoxMaximum_X  Cells_AreaShape_Compactness  \\\n",
      "0                              -0.72736                     -0.13691   \n",
      "1                               1.29660                      5.07890   \n",
      "2                               0.62653                      0.56783   \n",
      "3                              -0.15419                      0.22563   \n",
      "4                               2.99650                      4.03550   \n",
      "\n",
      "   Cells_AreaShape_Eccentricity  Cells_AreaShape_EulerNumber  \\\n",
      "0                     -1.138300                     -0.40735   \n",
      "1                      1.024200                      0.09990   \n",
      "2                     -0.889660                     -0.33774   \n",
      "3                      0.220710                     -0.11461   \n",
      "4                      0.075281                      1.53480   \n",
      "\n",
      "   Cells_AreaShape_Extent  Cells_AreaShape_FormFactor  \\\n",
      "0                 0.61211                    0.055619   \n",
      "1                -3.01830                   -4.309400   \n",
      "2                 0.24981                   -0.876440   \n",
      "3                -0.11304                   -0.258910   \n",
      "4                -3.74770                   -1.698600   \n",
      "\n",
      "   Cells_AreaShape_Orientation  ...  Nuclei_Texture_InfoMeas2_Mito_3_00_256  \\\n",
      "0                     -0.22686  ...                                0.337150   \n",
      "1                     -0.21016  ...                                2.517900   \n",
      "2                     -1.50450  ...                               -0.051625   \n",
      "3                     -1.50310  ...                               -0.323490   \n",
      "4                     -2.43080  ...                                4.937400   \n",
      "\n",
      "   Nuclei_Texture_InfoMeas2_RNA_3_00_256  \\\n",
      "0                                0.49002   \n",
      "1                                5.38420   \n",
      "2                                0.18927   \n",
      "3                                0.28140   \n",
      "4                                5.70630   \n",
      "\n",
      "   Nuclei_Texture_InverseDifferenceMoment_DNA_10_01_256  \\\n",
      "0                                           -0.15091      \n",
      "1                                           -4.24390      \n",
      "2                                            0.66132      \n",
      "3                                            0.63090      \n",
      "4                                           -9.52020      \n",
      "\n",
      "   Nuclei_Texture_InverseDifferenceMoment_ER_3_00_256  \\\n",
      "0                                           -0.81229    \n",
      "1                                           -5.75690    \n",
      "2                                           -0.25056    \n",
      "3                                            0.88823    \n",
      "4                                           -8.37980    \n",
      "\n",
      "   Nuclei_Texture_SumEntropy_AGP_10_03_256  \\\n",
      "0                                  1.11540   \n",
      "1                                  1.27040   \n",
      "2                                  0.22080   \n",
      "3                                 -0.19654   \n",
      "4                                  4.72620   \n",
      "\n",
      "   Nuclei_Texture_SumEntropy_ER_10_01_256  \\\n",
      "0                                0.227140   \n",
      "1                                5.762200   \n",
      "2                                0.021461   \n",
      "3                               -0.777240   \n",
      "4                               10.776000   \n",
      "\n",
      "   Nuclei_Texture_SumEntropy_RNA_10_01_256  \\\n",
      "0                                 0.241840   \n",
      "1                                 4.391200   \n",
      "2                                -0.419720   \n",
      "3                                -0.020828   \n",
      "4                                 4.357000   \n",
      "\n",
      "   Nuclei_Texture_SumVariance_AGP_10_03_256  \\\n",
      "0                                   0.58602   \n",
      "1                                   3.06460   \n",
      "2                                  -0.33624   \n",
      "3                                  -0.91844   \n",
      "4                                   9.62800   \n",
      "\n",
      "   Nuclei_Texture_SumVariance_ER_10_03_256  \\\n",
      "0                                 0.884180   \n",
      "1                                 5.227100   \n",
      "2                                -0.066628   \n",
      "3                                -0.684360   \n",
      "4                                13.780000   \n",
      "\n",
      "   Nuclei_Texture_SumVariance_RNA_10_01_256  \n",
      "0                                   0.13620  \n",
      "1                                   6.58820  \n",
      "2                                  -0.94127  \n",
      "3                                  -0.86955  \n",
      "4                                   5.11120  \n",
      "\n",
      "[5 rows x 633 columns]\n"
     ]
    }
   ],
   "source": [
    "data_impute_df = data_impute_df[feature_cols]\n",
    "compound_index_featuers = pd.merge(compound_index_df, data_impute_df, on='INCHIKEY')\n",
    "print(compound_index_featuers.head())"
   ]
  },
  {
   "cell_type": "code",
   "execution_count": 27,
   "metadata": {},
   "outputs": [],
   "source": [
    "assay_index_df = pd.read_csv(os.path.join(bioactivity_labels_dir, 'column-assay-index.csv'))"
   ]
  },
  {
   "cell_type": "code",
   "execution_count": 28,
   "metadata": {},
   "outputs": [
    {
     "data": {
      "text/html": [
       "<div>\n",
       "<style scoped>\n",
       "    .dataframe tbody tr th:only-of-type {\n",
       "        vertical-align: middle;\n",
       "    }\n",
       "\n",
       "    .dataframe tbody tr th {\n",
       "        vertical-align: top;\n",
       "    }\n",
       "\n",
       "    .dataframe thead th {\n",
       "        text-align: right;\n",
       "    }\n",
       "</style>\n",
       "<table border=\"1\" class=\"dataframe\">\n",
       "  <thead>\n",
       "    <tr style=\"text-align: right;\">\n",
       "      <th></th>\n",
       "      <th>ASSAY_ID</th>\n",
       "    </tr>\n",
       "  </thead>\n",
       "  <tbody>\n",
       "    <tr>\n",
       "      <th>0</th>\n",
       "      <td>600885</td>\n",
       "    </tr>\n",
       "    <tr>\n",
       "      <th>1</th>\n",
       "      <td>688422</td>\n",
       "    </tr>\n",
       "    <tr>\n",
       "      <th>2</th>\n",
       "      <td>688493</td>\n",
       "    </tr>\n",
       "    <tr>\n",
       "      <th>3</th>\n",
       "      <td>688810</td>\n",
       "    </tr>\n",
       "    <tr>\n",
       "      <th>4</th>\n",
       "      <td>688812</td>\n",
       "    </tr>\n",
       "  </tbody>\n",
       "</table>\n",
       "</div>"
      ],
      "text/plain": [
       "   ASSAY_ID\n",
       "0    600885\n",
       "1    688422\n",
       "2    688493\n",
       "3    688810\n",
       "4    688812"
      ]
     },
     "execution_count": 28,
     "metadata": {},
     "output_type": "execute_result"
    }
   ],
   "source": [
    "assay_index_df.head()"
   ]
  },
  {
   "cell_type": "code",
   "execution_count": 29,
   "metadata": {},
   "outputs": [
    {
     "name": "stdout",
     "output_type": "stream",
     "text": [
      "(10574, 209)\n"
     ]
    }
   ],
   "source": [
    "from scipy.io import mmread\n",
    "the_matrix = mmread(\"/SSL_data/supervisedCNNs/Bray_bioactives/ChEMBL/Label_Matrix_Hofmarcher/label-matrix.mtx\")\n",
    "print(the_matrix.shape)"
   ]
  },
  {
   "cell_type": "code",
   "execution_count": 30,
   "metadata": {},
   "outputs": [
    {
     "name": "stdout",
     "output_type": "stream",
     "text": [
      "  (6537, 0)\t1\n",
      "  (6542, 0)\t1\n",
      "  (6543, 0)\t1\n",
      "  (6552, 0)\t-1\n",
      "  (6689, 0)\t-1\n",
      "  (6708, 0)\t1\n",
      "  (6821, 0)\t1\n",
      "  (6829, 0)\t1\n",
      "  (8169, 0)\t1\n",
      "  (8170, 0)\t1\n",
      "  (8174, 0)\t1\n",
      "  (8175, 0)\t1\n",
      "  (8176, 0)\t1\n",
      "  (8177, 0)\t1\n",
      "  (8180, 0)\t1\n",
      "  (8181, 0)\t-1\n",
      "  (8183, 0)\t1\n",
      "  (8184, 0)\t1\n",
      "  (8185, 0)\t1\n",
      "  (8187, 0)\t1\n",
      "  (8189, 0)\t1\n",
      "  (8190, 0)\t1\n",
      "  (8191, 0)\t1\n",
      "  (8192, 0)\t1\n",
      "  (8193, 0)\t1\n",
      "  :\t:\n",
      "  (9651, 208)\t-1\n",
      "  (9662, 208)\t-1\n",
      "  (9684, 208)\t-1\n",
      "  (9712, 208)\t-1\n",
      "  (9720, 208)\t-1\n",
      "  (9765, 208)\t-1\n",
      "  (9780, 208)\t-1\n",
      "  (9782, 208)\t-1\n",
      "  (9787, 208)\t-1\n",
      "  (9790, 208)\t-1\n",
      "  (9805, 208)\t-1\n",
      "  (9835, 208)\t-1\n",
      "  (9854, 208)\t-1\n",
      "  (9861, 208)\t-1\n",
      "  (9884, 208)\t-1\n",
      "  (9919, 208)\t-1\n",
      "  (9924, 208)\t-1\n",
      "  (9941, 208)\t-1\n",
      "  (9971, 208)\t-1\n",
      "  (10013, 208)\t-1\n",
      "  (10070, 208)\t-1\n",
      "  (10079, 208)\t-1\n",
      "  (10162, 208)\t-1\n",
      "  (10196, 208)\t-1\n",
      "  (10489, 208)\t-1\n"
     ]
    }
   ],
   "source": [
    "print(the_matrix)"
   ]
  },
  {
   "cell_type": "code",
   "execution_count": 31,
   "metadata": {},
   "outputs": [
    {
     "name": "stdout",
     "output_type": "stream",
     "text": [
      "(10574, 209)\n"
     ]
    }
   ],
   "source": [
    "labels = the_matrix.toarray()\n",
    "print(labels.shape)"
   ]
  },
  {
   "cell_type": "code",
   "execution_count": 32,
   "metadata": {},
   "outputs": [
    {
     "name": "stdout",
     "output_type": "stream",
     "text": [
      "(47139, 633)\n"
     ]
    }
   ],
   "source": [
    "print(compound_index_featuers.shape)"
   ]
  },
  {
   "cell_type": "code",
   "execution_count": 33,
   "metadata": {},
   "outputs": [
    {
     "name": "stdout",
     "output_type": "stream",
     "text": [
      "(32986, 633)\n"
     ]
    }
   ],
   "source": [
    "compound_index_featuers_train_3 = compound_index_featuers[compound_index_featuers['INCHIKEY'].isin(train_df_3['INCHIKEY'])]\n",
    "print(compound_index_featuers_train_3.shape)"
   ]
  },
  {
   "cell_type": "code",
   "execution_count": 34,
   "metadata": {},
   "outputs": [
    {
     "name": "stdout",
     "output_type": "stream",
     "text": [
      "(9410, 633)\n"
     ]
    }
   ],
   "source": [
    "compound_index_featuers_test_3 = compound_index_featuers[compound_index_featuers['INCHIKEY'].isin(test_df_3['INCHIKEY'])]\n",
    "print(compound_index_featuers_test_3.shape)"
   ]
  },
  {
   "cell_type": "code",
   "execution_count": 35,
   "metadata": {},
   "outputs": [
    {
     "name": "stdout",
     "output_type": "stream",
     "text": [
      "(4743, 633)\n"
     ]
    }
   ],
   "source": [
    "compound_index_featuers_val_3 = compound_index_featuers[compound_index_featuers['INCHIKEY'].isin(val_df_3['INCHIKEY'])]\n",
    "print(compound_index_featuers_val_3.shape)"
   ]
  },
  {
   "cell_type": "code",
   "execution_count": 36,
   "metadata": {},
   "outputs": [
    {
     "name": "stdout",
     "output_type": "stream",
     "text": [
      "(32986, 633)\n"
     ]
    }
   ],
   "source": [
    "data_train_3 = compound_index_featuers_train_3.to_numpy()\n",
    "print(data_train_3.shape)"
   ]
  },
  {
   "cell_type": "code",
   "execution_count": 37,
   "metadata": {},
   "outputs": [
    {
     "name": "stdout",
     "output_type": "stream",
     "text": [
      "(9410, 633)\n"
     ]
    }
   ],
   "source": [
    "data_test_3 = compound_index_featuers_test_3.to_numpy()\n",
    "print(data_test_3.shape)"
   ]
  },
  {
   "cell_type": "code",
   "execution_count": 38,
   "metadata": {},
   "outputs": [
    {
     "name": "stdout",
     "output_type": "stream",
     "text": [
      "(4743, 633)\n"
     ]
    }
   ],
   "source": [
    "data_val_3 = compound_index_featuers_val_3.to_numpy()\n",
    "print(data_val_3.shape)"
   ]
  },
  {
   "cell_type": "code",
   "execution_count": 39,
   "metadata": {},
   "outputs": [
    {
     "name": "stdout",
     "output_type": "stream",
     "text": [
      "(10574, 209)\n"
     ]
    }
   ],
   "source": [
    "print(labels.shape)"
   ]
  },
  {
   "cell_type": "code",
   "execution_count": 40,
   "metadata": {},
   "outputs": [
    {
     "name": "stdout",
     "output_type": "stream",
     "text": [
      "(32986, 209)\n"
     ]
    }
   ],
   "source": [
    "complete_labels_train_3 =[]\n",
    "for row in data_train_3:\n",
    "        complete_labels_train_3.append(labels[row[0]])\n",
    "complete_labels_train_3 = np.array(complete_labels_train_3)\n",
    "print(complete_labels_train_3.shape)"
   ]
  },
  {
   "cell_type": "code",
   "execution_count": 41,
   "metadata": {},
   "outputs": [
    {
     "name": "stdout",
     "output_type": "stream",
     "text": [
      "(9410, 209)\n"
     ]
    }
   ],
   "source": [
    "complete_labels_test_3 =[]\n",
    "for row in data_test_3:\n",
    "        complete_labels_test_3.append(labels[row[0]])\n",
    "complete_labels_test_3 = np.array(complete_labels_test_3)\n",
    "print(complete_labels_test_3.shape)"
   ]
  },
  {
   "cell_type": "code",
   "execution_count": 42,
   "metadata": {},
   "outputs": [
    {
     "name": "stdout",
     "output_type": "stream",
     "text": [
      "(4743, 209)\n"
     ]
    }
   ],
   "source": [
    "complete_labels_val_3 =[]\n",
    "for row in data_val_3:\n",
    "        complete_labels_val_3.append(labels[row[0]])\n",
    "complete_labels_val_3 = np.array(complete_labels_val_3)\n",
    "print(complete_labels_val_3.shape)"
   ]
  },
  {
   "cell_type": "code",
   "execution_count": 43,
   "metadata": {},
   "outputs": [
    {
     "name": "stdout",
     "output_type": "stream",
     "text": [
      "[[0 'IENZQIKPVFGBNW-UHFFFAOYSA-N' -0.92419 ... 0.58602 0.88418 0.1362]\n",
      " [0 'IENZQIKPVFGBNW-UHFFFAOYSA-N' 6.4768 ... 3.0646 5.2271 6.5882]\n",
      " [0 'IENZQIKPVFGBNW-UHFFFAOYSA-N' 0.61509 ... -0.33624 -0.066628 -0.94127]\n",
      " ...\n",
      " [10571 'YAJYINBQFXCAPI-PFPZSTESSA-N' -1.0928 ... -0.75238 0.69384\n",
      "  0.13893]\n",
      " [10571 'YAJYINBQFXCAPI-PFPZSTESSA-N' -0.83083 ... 0.48064 0.090722\n",
      "  0.5562]\n",
      " [10571 'YAJYINBQFXCAPI-PFPZSTESSA-N' -0.4139 ... 0.6106 -0.2677 0.4296]]\n"
     ]
    }
   ],
   "source": [
    "print(data_train_3)\n",
    "    \n",
    "    "
   ]
  },
  {
   "cell_type": "code",
   "execution_count": 44,
   "metadata": {},
   "outputs": [
    {
     "name": "stdout",
     "output_type": "stream",
     "text": [
      "(32986, 631)\n"
     ]
    }
   ],
   "source": [
    "final_featuers_train_3 = data_train_3[:,2:]\n",
    "print(final_featuers_train_3.shape)"
   ]
  },
  {
   "cell_type": "code",
   "execution_count": 45,
   "metadata": {},
   "outputs": [
    {
     "name": "stdout",
     "output_type": "stream",
     "text": [
      "(9410, 631)\n"
     ]
    }
   ],
   "source": [
    "final_featuers_test_3 = data_test_3[:,2:]\n",
    "print(final_featuers_test_3.shape)"
   ]
  },
  {
   "cell_type": "code",
   "execution_count": 46,
   "metadata": {},
   "outputs": [
    {
     "name": "stdout",
     "output_type": "stream",
     "text": [
      "(4743, 631)\n"
     ]
    }
   ],
   "source": [
    "final_featuers_val_3 = data_val_3[:,2:]\n",
    "print(final_featuers_val_3.shape)"
   ]
  },
  {
   "cell_type": "code",
   "execution_count": 47,
   "metadata": {},
   "outputs": [
    {
     "name": "stdout",
     "output_type": "stream",
     "text": [
      "[[ True  True  True ...  True  True  True]\n",
      " [ True  True  True ...  True  True  True]\n",
      " [ True  True  True ...  True  True  True]\n",
      " ...\n",
      " [ True  True  True ...  True  True  True]\n",
      " [ True  True  True ...  True  True  True]\n",
      " [ True  True  True ...  True  True  True]]\n",
      "[[ True  True  True ...  True  True  True]\n",
      " [ True  True  True ...  True  True  True]\n",
      " [ True  True  True ...  True  True  True]\n",
      " ...\n",
      " [ True  True  True ...  True  True  True]\n",
      " [ True  True  True ...  True  True  True]\n",
      " [ True  True  True ...  True  True  True]]\n"
     ]
    }
   ],
   "source": [
    "np.save('/SSL_data/supervisedCNNs/Bray_bioactives/processed_data/data_split_3/impute_features_train3.npy', final_featuers_train_3)\n",
    "np.save('/SSL_data/supervisedCNNs/Bray_bioactives/processed_data/data_split_3/all_labels_train3.npy', complete_labels_train_3)\n",
    "\n",
    "\n",
    "np.save('/SSL_data/supervisedCNNs/Bray_bioactives/processed_data/data_split_3/impute_features_test3.npy', final_featuers_test_3)\n",
    "np.save('/SSL_data/supervisedCNNs/Bray_bioactives/processed_data/data_split_3/all_labels_test3.npy', complete_labels_test_3)\n",
    "\n",
    "np.save('/SSL_data/supervisedCNNs/Bray_bioactives/processed_data/data_split_3/impute_features_val3.npy', final_featuers_val_3)\n",
    "np.save('/SSL_data/supervisedCNNs/Bray_bioactives/processed_data/data_split_3/all_labels_val3.npy', complete_labels_val_3)\n",
    "\n",
    "\n",
    "l = np.load('/SSL_data/supervisedCNNs/Bray_bioactives/processed_data/data_split_3/all_labels_val3.npy')\n",
    "f = np.load('/SSL_data/supervisedCNNs/Bray_bioactives/processed_data/data_split_3/impute_features_val3.npy', allow_pickle=True)\n",
    "\n",
    "print(l == complete_labels_val_3)\n",
    "print(f == final_featuers_val_3)"
   ]
  }
 ],
 "metadata": {
  "kernelspec": {
   "display_name": "cpenv",
   "language": "python",
   "name": "python3"
  },
  "language_info": {
   "codemirror_mode": {
    "name": "ipython",
    "version": 3
   },
   "file_extension": ".py",
   "mimetype": "text/x-python",
   "name": "python",
   "nbconvert_exporter": "python",
   "pygments_lexer": "ipython3",
   "version": "3.9.18"
  }
 },
 "nbformat": 4,
 "nbformat_minor": 2
}
